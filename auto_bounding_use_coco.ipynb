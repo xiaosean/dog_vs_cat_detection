{
 "cells": [
  {
   "cell_type": "markdown",
   "metadata": {},
   "source": [
    "# Object Detection Demo\n",
    "Welcome to the object detection inference walkthrough!  This notebook will walk you step by step through the process of using a pre-trained model to detect objects in an image. Make sure to follow the [installation instructions](https://github.com/tensorflow/models/blob/master/object_detection/g3doc/installation.md) before you start."
   ]
  },
  {
   "cell_type": "markdown",
   "metadata": {},
   "source": [
    "# Imports"
   ]
  },
  {
   "cell_type": "code",
   "execution_count": 32,
   "metadata": {
    "collapsed": true,
    "scrolled": true
   },
   "outputs": [],
   "source": [
    "import numpy as np\n",
    "import os\n",
    "import six.moves.urllib as urllib\n",
    "import sys\n",
    "import tarfile\n",
    "import tensorflow as tf\n",
    "import zipfile\n",
    "import pandas as pd\n",
    "from collections import defaultdict\n",
    "from io import StringIO\n",
    "from matplotlib import pyplot as plt\n",
    "from PIL import Image\n",
    "import scipy.misc\n",
    "from time import time\n",
    "\n"
   ]
  },
  {
   "cell_type": "markdown",
   "metadata": {},
   "source": [
    "## Env setup"
   ]
  },
  {
   "cell_type": "code",
   "execution_count": 33,
   "metadata": {
    "collapsed": true
   },
   "outputs": [],
   "source": [
    "# This is needed to display the images.\n",
    "%matplotlib inline\n",
    "\n",
    "# This is needed since the notebook is stored in the object_detection folder.\n",
    "sys.path.append(\"..\")"
   ]
  },
  {
   "cell_type": "markdown",
   "metadata": {},
   "source": [
    "## Object detection imports\n",
    "Here are the imports from the object detection module."
   ]
  },
  {
   "cell_type": "code",
   "execution_count": 34,
   "metadata": {
    "collapsed": true
   },
   "outputs": [],
   "source": [
    "from utils import label_map_util\n",
    "\n",
    "from utils import visualization_utils as vis_util"
   ]
  },
  {
   "cell_type": "markdown",
   "metadata": {},
   "source": [
    "# Model preparation "
   ]
  },
  {
   "cell_type": "markdown",
   "metadata": {},
   "source": [
    "## Variables\n",
    "\n",
    "Any model exported using the `export_inference_graph.py` tool can be loaded here simply by changing `PATH_TO_CKPT` to point to a new .pb file.  \n",
    "\n",
    "By default we use an \"SSD with Mobilenet\" model here. See the [detection model zoo](https://github.com/tensorflow/models/blob/master/object_detection/g3doc/detection_model_zoo.md) for a list of other models that can be run out-of-the-box with varying speeds and accuracies."
   ]
  },
  {
   "cell_type": "code",
   "execution_count": 35,
   "metadata": {},
   "outputs": [],
   "source": [
    "# What model to download.\n",
    "MODEL_NAME = 'ssd_mobilenet_v1_coco_11_06_2017'\n",
    "MODEL_FILE = MODEL_NAME + '.tar.gz'\n",
    "DOWNLOAD_BASE = 'http://download.tensorflow.org/models/object_detection/'\n",
    "\n",
    "# Path to frozen detection graph. This is the actual model that is used for the object detection.\n",
    "PATH_TO_CKPT = MODEL_NAME + '/frozen_inference_graph.pb'\n",
    "\n",
    "# List of the strings that is used to add correct label for each box.\n",
    "PATH_TO_LABELS = os.path.join('mscoco_label_map.pbtxt')\n",
    "\n",
    "NUM_CLASSES = 90"
   ]
  },
  {
   "cell_type": "markdown",
   "metadata": {},
   "source": [
    "## Download Model"
   ]
  },
  {
   "cell_type": "code",
   "execution_count": 36,
   "metadata": {},
   "outputs": [],
   "source": [
    "if(not os.path.exists(MODEL_FILE)):\n",
    "    print(\"start download model\")\n",
    "    opener = urllib.request.URLopener()\n",
    "    opener.retrieve(DOWNLOAD_BASE + MODEL_FILE, MODEL_FILE)\n",
    "tar_file = tarfile.open(MODEL_FILE)\n",
    "for file in tar_file.getmembers():\n",
    "  file_name = os.path.basename(file.name)\n",
    "  if 'frozen_inference_graph.pb' in file_name:\n",
    "    tar_file.extract(file, os.getcwd())"
   ]
  },
  {
   "cell_type": "markdown",
   "metadata": {},
   "source": [
    "## Load a (frozen) Tensorflow model into memory."
   ]
  },
  {
   "cell_type": "code",
   "execution_count": 37,
   "metadata": {
    "collapsed": true
   },
   "outputs": [],
   "source": [
    "detection_graph = tf.Graph()\n",
    "with detection_graph.as_default():\n",
    "  od_graph_def = tf.GraphDef()\n",
    "  with tf.gfile.GFile(PATH_TO_CKPT, 'rb') as fid:\n",
    "    serialized_graph = fid.read()\n",
    "    od_graph_def.ParseFromString(serialized_graph)\n",
    "    tf.import_graph_def(od_graph_def, name='')"
   ]
  },
  {
   "cell_type": "markdown",
   "metadata": {},
   "source": [
    "## Loading label map\n",
    "Label maps map indices to category names, so that when our convolution network predicts `5`, we know that this corresponds to `airplane`.  Here we use internal utility functions, but anything that returns a dictionary mapping integers to appropriate string labels would be fine"
   ]
  },
  {
   "cell_type": "code",
   "execution_count": 38,
   "metadata": {
    "collapsed": true
   },
   "outputs": [],
   "source": [
    "label_map = label_map_util.load_labelmap(PATH_TO_LABELS)\n",
    "categories = label_map_util.convert_label_map_to_categories(label_map, max_num_classes=NUM_CLASSES, use_display_name=True)\n",
    "category_index = label_map_util.create_category_index(categories)"
   ]
  },
  {
   "cell_type": "markdown",
   "metadata": {},
   "source": [
    "## Helper code"
   ]
  },
  {
   "cell_type": "code",
   "execution_count": 39,
   "metadata": {},
   "outputs": [],
   "source": [
    "def load_image_into_numpy_array(image):\n",
    "  (im_width, im_height) = image.size\n",
    "  return np.array(image.getdata()).reshape(\n",
    "      (im_height, im_width, 3)).astype(np.uint8)"
   ]
  },
  {
   "cell_type": "code",
   "execution_count": null,
   "metadata": {
    "collapsed": true
   },
   "outputs": [],
   "source": []
  },
  {
   "cell_type": "code",
   "execution_count": 46,
   "metadata": {},
   "outputs": [
    {
     "name": "stdout",
     "output_type": "stream",
     "text": [
      "no file, makefile => auto_box\\auto_box.csv\n"
     ]
    }
   ],
   "source": [
    "out_path = os.path.join(\"auto_box\")\n",
    "if not os.path.exists(out_path):\n",
    "    os.makedirs(out_path)\n",
    "out_filename = os.path.join(\"auto_box\", \"auto_box.csv\")\n",
    "if not os.path.exists(out_filename):\n",
    "    df = pd.DataFrame(columns = [\"filename\", \"width\", \"height\", \"class\", \"xmin\", \"ymin\", \"xmax\", \"ymax\", \"score\"])\n",
    "    df.to_csv(out_filename, index= False)\n",
    "    print(\"no file, makefile => %s\" % out_filename)\n",
    "multi_out_filename = os.path.join(\"auto_box\", \"multi_box_filename.csv\")\n",
    "if not os.path.exists(multi_out_filename):\n",
    "    df = pd.DataFrame(columns = [\"filename\"])\n",
    "    df.to_csv(multi_out_filename, index= False)\n",
    "    print(\"no file, makefile => %s\" % multi_out_filename)\n",
    "out_box_image_dir = os.path.join(\"auto_box\", \"box_image\")\n",
    "if not os.path.exists(out_box_image_dir):\n",
    "    os.makedirs(out_box_image_dir)\n",
    "    print(\"no dir, makedir => %s\" % out_box_image_dir)\n",
    "\n",
    "\n",
    "\n",
    "\n",
    "#     df.to_csv(out_filename, mode='a', header=False)"
   ]
  },
  {
   "cell_type": "markdown",
   "metadata": {},
   "source": [
    "# Detection"
   ]
  },
  {
   "cell_type": "code",
   "execution_count": 41,
   "metadata": {
    "collapsed": true
   },
   "outputs": [],
   "source": [
    "# For the sake of simplicity we will use only 2 images:\n",
    "# image1.jpg\n",
    "# image2.jpg\n",
    "# If you want to test the code with your images, just add path to the images to the TEST_IMAGE_PATHS.\n",
    "PATH_TO_TEST_IMAGES_DIR = 'test_images'\n",
    "# TEST_IMAGE_PATHS = [ os.path.join(PATH_TO_TEST_IMAGES_DIR, 'image{}.jpg'.format(i)) for i in range(1, 3) ]\n",
    "# TEST_IMAGE_PATHS = [ os.path.join(PATH_TO_TEST_IMAGES_DIR, target_class + '.6.jpg') ]\n",
    "# TEST_IMAGE_PATHS = [\"C:/Users/VIPLAB/Desktop/dog_vs_cat_detection/dataset/self_divide/eval/cat/cat.1216.jpg\"]\n",
    "# TEST_IMAGE_PATHS = [\"C:/Users/VIPLAB/Desktop/dog_vs_cat_detection/dataset/self_divide/eval/cat/cat.30.jpg\"]\n",
    "# TEST_IMAGE_PATHS = [\"C:/Users/VIPLAB/Desktop/dog_vs_cat_detection/dataset/self_divide/eval/cat/cat.174.jpg\"]\n",
    "# TEST_IMAGE_PATHS = [\"C:/Users/VIPLAB/Desktop/dog_vs_cat_detection/dataset/self_divide/eval/dog/dog.6.jpg\"]\n",
    "# TEST_IMAGE_PATHS = [\"C:/Users/VIPLAB/Desktop/dog_vs_cat_detection/dataset/self_divide/eval/dog/dog.67.jpg\"]\n",
    "# TEST_IMAGE_PATHS = [\"C:/Users/VIPLAB/Desktop/dog_vs_cat_detection/dataset/self_divide/train/dog/dog.12168.jpg\"]\n",
    "# TEST_IMAGE_PATHS = [\"C:/Users/VIPLAB/Desktop/dog_vs_cat_detection/dataset/self_divide/train/dog/dog.11852.jpg\"]\n",
    "\n",
    "# Size, in inches, of the output images.\n",
    "IMAGE_SIZE = (12, 8)"
   ]
  },
  {
   "cell_type": "markdown",
   "metadata": {},
   "source": [
    "# iterator auto box picture"
   ]
  },
  {
   "cell_type": "code",
   "execution_count": null,
   "metadata": {},
   "outputs": [
    {
     "name": "stdout",
     "output_type": "stream",
     "text": [
      "train step -- 0  compute 100 image _ batch time =  0.01905083656311035\n"
     ]
    }
   ],
   "source": [
    "with detection_graph.as_default():\n",
    "    with tf.Session(graph=detection_graph) as sess:\n",
    "        start_time = time()\n",
    "        each_batch_time = time()\n",
    "        # collect the dirs\n",
    "        mode_list = [\"train\", \"eval\"]\n",
    "        for mode in mode_list:\n",
    "            cwd = \"C:/Users/VIPLAB/Desktop/dog_vs_cat_detection/dataset/self_divide/\" + mode + \"/\"\n",
    "            # classes = [\"cat\", \"dog\"]\n",
    "            classes = [\"dog\", \"cat\"]\n",
    "            for index, name in enumerate(classes):\n",
    "                class_path = cwd + name + \"/\"\n",
    "                for img_count, img_name in enumerate(os.listdir(class_path)):\n",
    "                    if (img_count % 100 == 0):\n",
    "                        output_str = mode + \" step -- \" + str(img_count)\n",
    "                        print(output_str, \" compute 100 image_batch time = \", time() - each_batch_time)\n",
    "                        each_batch_time = time()\n",
    "                    image = Image.open(os.path.join(class_path, img_name))\n",
    "                    # the array based representation of the image will be used later in order to prepare the\n",
    "                    # result image with boxes and labels on it.\n",
    "                    image_np = load_image_into_numpy_array(image)\n",
    "                    # Expand dimensions since the model expects images to have shape: [1, None, None, 3]\n",
    "                    image_np_expanded = np.expand_dims(image_np, axis=0)\n",
    "                    image_tensor = detection_graph.get_tensor_by_name('image_tensor:0')\n",
    "                    # Each box represents a part of the image where a particular object was detected.\n",
    "                    boxes = detection_graph.get_tensor_by_name('detection_boxes:0')\n",
    "                    # Each score represent how level of confidence for each of the objects.\n",
    "                    # Score is shown on the result image, together with the class label.\n",
    "                    scores = detection_graph.get_tensor_by_name('detection_scores:0')\n",
    "                    classes = detection_graph.get_tensor_by_name('detection_classes:0')\n",
    "                    num_detections = detection_graph.get_tensor_by_name('num_detections:0')\n",
    "                    # Actual detection.\n",
    "                    (boxes, scores, classes, num_detections) = sess.run(\n",
    "                      [boxes, scores, classes, num_detections],\n",
    "                      feed_dict={image_tensor: image_np_expanded})\n",
    "                    # Visualization of the results of a detection.\n",
    "                    vis_util.visualize_boxes_and_labels_on_image_array(\n",
    "                      image_np,\n",
    "                      np.squeeze(boxes),\n",
    "                      np.squeeze(classes).astype(np.int32),\n",
    "                      np.squeeze(scores),\n",
    "                      category_index,\n",
    "                      use_normalized_coordinates=True,\n",
    "                      line_thickness=8)\n",
    "        #             plt.figure(figsize=IMAGE_SIZE)\n",
    "        #             plt.imshow(image_np)\n",
    "                    #       print(boxes)\n",
    "                    pet_count = 0\n",
    "\n",
    "                    for i in range(boxes.shape[0]):\n",
    "                        flat_classes = np.squeeze(classes).astype(np.int32)\n",
    "#                             class_name = category_index[flat_classes[i]]['name']\n",
    "                        class_name = name\n",
    "                        score = np.squeeze(scores)[i] * 100                        \n",
    "                        if(class_name == \"dog\" or class_name == \"cat\"):\n",
    "                            pet_count += 1\n",
    "                            if(pet_count > 1):\n",
    "                                df = pd.DataFrame([[img_name]], columns = [\"filename\"])\n",
    "                                df.to_csv(multi_out_filename, mode='a', header=False, index = False)\n",
    "                                break\n",
    "                            box = tuple(boxes[i].tolist())\n",
    "                            ymin, xmin, ymax, xmax = box[i]\n",
    "\n",
    "                            df = pd.DataFrame([[img_name, image.width, image.height, class_name, xmin, ymin, xmax, ymax, score]],columns = [\"filename\", \"width\", \"height\", \"class\", \"xmin\", \"ymin\", \"xmax\", \"ymax\", \"score\"])\n",
    "                            df.to_csv(out_filename, mode='a', header=False, index = False)\n",
    "#                             out_image_name = os.path.join(out_box_image_dir, image_path.split(\"/\")[-1])\n",
    "                            out_image_name = os.path.join(out_box_image_dir, img_name)\n",
    "\n",
    "                            scipy.misc.imsave(out_image_name, image_np)\n",
    "\n",
    "\n",
    "                #             print(box)\n",
    "                #             print(ymin, xmin, ymax, xmax)"
   ]
  },
  {
   "cell_type": "code",
   "execution_count": null,
   "metadata": {
    "collapsed": true
   },
   "outputs": [],
   "source": []
  },
  {
   "cell_type": "code",
   "execution_count": null,
   "metadata": {
    "collapsed": true
   },
   "outputs": [],
   "source": []
  },
  {
   "cell_type": "code",
   "execution_count": null,
   "metadata": {
    "collapsed": true
   },
   "outputs": [],
   "source": []
  },
  {
   "cell_type": "code",
   "execution_count": null,
   "metadata": {
    "collapsed": true
   },
   "outputs": [],
   "source": []
  },
  {
   "cell_type": "code",
   "execution_count": null,
   "metadata": {
    "collapsed": true
   },
   "outputs": [],
   "source": []
  },
  {
   "cell_type": "code",
   "execution_count": 28,
   "metadata": {},
   "outputs": [
    {
     "name": "stdout",
     "output_type": "stream",
     "text": [
      "train step -- 0  compute 100 image _ batch time =  2.464855670928955\n",
      "train step -- 100  compute 100 image _ batch time =  235.46569967269897\n",
      "train step -- 200  compute 100 image _ batch time =  235.22960543632507\n",
      "train step -- 300  compute 100 image _ batch time =  234.22410368919373\n",
      "train step -- 400  compute 100 image _ batch time =  235.19963431358337\n",
      "train step -- 500  compute 100 image _ batch time =  234.750018119812\n",
      "train step -- 600  compute 100 image _ batch time =  235.9405586719513\n",
      "train step -- 700  compute 100 image _ batch time =  236.83321475982666\n",
      "train step -- 800  compute 100 image _ batch time =  237.93506836891174\n",
      "train step -- 900  compute 100 image _ batch time =  240.9554512500763\n",
      "train step -- 1000  compute 100 image _ batch time =  242.31192183494568\n",
      "train step -- 1100  compute 100 image _ batch time =  244.6595482826233\n",
      "train step -- 1200  compute 100 image _ batch time =  246.09480333328247\n",
      "train step -- 1300  compute 100 image _ batch time =  246.82443499565125\n",
      "train step -- 1400  compute 100 image _ batch time =  244.60989022254944\n",
      "train step -- 1500  compute 100 image _ batch time =  244.695410490036\n",
      "train step -- 1600  compute 100 image _ batch time =  247.02676796913147\n",
      "train step -- 1700  compute 100 image _ batch time =  249.8986988067627\n",
      "train step -- 1800  compute 100 image _ batch time =  251.67389559745789\n",
      "train step -- 1900  compute 100 image _ batch time =  248.60907626152039\n",
      "train step -- 2000  compute 100 image _ batch time =  248.69210839271545\n",
      "train step -- 2100  compute 100 image _ batch time =  250.73938012123108\n",
      "train step -- 2200  compute 100 image _ batch time =  250.33272695541382\n",
      "train step -- 2300  compute 100 image _ batch time =  248.95539689064026\n",
      "train step -- 2400  compute 100 image _ batch time =  250.36054062843323\n",
      "train step -- 2500  compute 100 image _ batch time =  250.6384768486023\n",
      "train step -- 2600  compute 100 image _ batch time =  249.89083790779114\n",
      "train step -- 2700  compute 100 image _ batch time =  249.84614610671997\n",
      "train step -- 2800  compute 100 image _ batch time =  249.46080493927002\n",
      "train step -- 2900  compute 100 image _ batch time =  253.4570598602295\n",
      "train step -- 3000  compute 100 image _ batch time =  250.1173870563507\n",
      "train step -- 3100  compute 100 image _ batch time =  249.59898209571838\n",
      "train step -- 3200  compute 100 image _ batch time =  251.48484182357788\n",
      "train step -- 3300  compute 100 image _ batch time =  251.04837203025818\n",
      "train step -- 3400  compute 100 image _ batch time =  251.1508719921112\n",
      "train step -- 3500  compute 100 image _ batch time =  252.440336227417\n",
      "train step -- 3600  compute 100 image _ batch time =  251.61292004585266\n",
      "train step -- 3700  compute 100 image _ batch time =  251.1950113773346\n",
      "train step -- 3800  compute 100 image _ batch time =  252.15442276000977\n",
      "train step -- 3900  compute 100 image _ batch time =  251.6146891117096\n",
      "train step -- 4000  compute 100 image _ batch time =  251.58873796463013\n",
      "train step -- 4100  compute 100 image _ batch time =  251.6809277534485\n",
      "train step -- 4200  compute 100 image _ batch time =  251.89145755767822\n",
      "train step -- 4300  compute 100 image _ batch time =  251.72022581100464\n",
      "train step -- 4400  compute 100 image _ batch time =  253.33265590667725\n",
      "train step -- 4500  compute 100 image _ batch time =  252.26343154907227\n",
      "train step -- 4600  compute 100 image _ batch time =  252.95098304748535\n",
      "train step -- 4700  compute 100 image _ batch time =  252.9018976688385\n",
      "train step -- 4800  compute 100 image _ batch time =  251.88505101203918\n",
      "train step -- 4900  compute 100 image _ batch time =  252.67719149589539\n",
      "train step -- 5000  compute 100 image _ batch time =  253.04380297660828\n",
      "train step -- 5100  compute 100 image _ batch time =  252.8334448337555\n",
      "train step -- 5200  compute 100 image _ batch time =  251.80649209022522\n",
      "train step -- 5300  compute 100 image _ batch time =  253.50949788093567\n",
      "train step -- 5400  compute 100 image _ batch time =  253.36505651474\n",
      "train step -- 5500  compute 100 image _ batch time =  253.2354953289032\n",
      "train step -- 5600  compute 100 image _ batch time =  252.70470809936523\n",
      "train step -- 5700  compute 100 image _ batch time =  253.91288948059082\n",
      "train step -- 5800  compute 100 image _ batch time =  252.50292992591858\n",
      "train step -- 5900  compute 100 image _ batch time =  254.1605818271637\n",
      "train step -- 6000  compute 100 image _ batch time =  253.27231550216675\n",
      "train step -- 6100  compute 100 image _ batch time =  254.08822202682495\n",
      "train step -- 6200  compute 100 image _ batch time =  253.86821866035461\n",
      "train step -- 6300  compute 100 image _ batch time =  253.41009616851807\n",
      "train step -- 6400  compute 100 image _ batch time =  254.44684171676636\n",
      "train step -- 6500  compute 100 image _ batch time =  253.2493860721588\n",
      "train step -- 6600  compute 100 image _ batch time =  254.16346192359924\n",
      "train step -- 6700  compute 100 image _ batch time =  253.61183094978333\n",
      "train step -- 6800  compute 100 image _ batch time =  252.56548404693604\n",
      "train step -- 6900  compute 100 image _ batch time =  254.32513546943665\n",
      "train step -- 7000  compute 100 image _ batch time =  254.18369340896606\n",
      "train step -- 7100  compute 100 image _ batch time =  253.67307353019714\n",
      "train step -- 7200  compute 100 image _ batch time =  255.0836308002472\n",
      "train step -- 7300  compute 100 image _ batch time =  253.72556710243225\n",
      "train step -- 7400  compute 100 image _ batch time =  255.29155206680298\n",
      "train step -- 7500  compute 100 image _ batch time =  254.37920951843262\n",
      "train step -- 7600  compute 100 image _ batch time =  255.66435289382935\n",
      "train step -- 7700  compute 100 image _ batch time =  255.6095118522644\n",
      "train step -- 7800  compute 100 image _ batch time =  254.68707394599915\n",
      "train step -- 7900  compute 100 image _ batch time =  253.3838427066803\n",
      "train step -- 8000  compute 100 image _ batch time =  254.64690613746643\n",
      "train step -- 8100  compute 100 image _ batch time =  255.407301902771\n",
      "train step -- 8200  compute 100 image _ batch time =  253.88956260681152\n",
      "train step -- 8300  compute 100 image _ batch time =  255.50017857551575\n",
      "train step -- 8400  compute 100 image _ batch time =  253.79574918746948\n",
      "train step -- 8500  compute 100 image _ batch time =  255.55942749977112\n",
      "train step -- 8600  compute 100 image _ batch time =  256.2802472114563\n",
      "train step -- 8700  compute 100 image _ batch time =  256.234938621521\n",
      "train step -- 8800  compute 100 image _ batch time =  257.29885482788086\n",
      "train step -- 8900  compute 100 image _ batch time =  271.0113470554352\n",
      "train step -- 9000  compute 100 image _ batch time =  261.4776647090912\n",
      "train step -- 9100  compute 100 image _ batch time =  257.1247720718384\n",
      "train step -- 9200  compute 100 image _ batch time =  256.76781606674194\n",
      "train step -- 9300  compute 100 image _ batch time =  256.54345536231995\n",
      "train step -- 9400  compute 100 image _ batch time =  256.4887547492981\n",
      "train step -- 9500  compute 100 image _ batch time =  256.4713308811188\n",
      "train step -- 9600  compute 100 image _ batch time =  256.87092661857605\n",
      "train step -- 9700  compute 100 image _ batch time =  256.0105867385864\n",
      "train step -- 9800  compute 100 image _ batch time =  258.3969130516052\n",
      "train step -- 9900  compute 100 image _ batch time =  256.80737924575806\n",
      "train step -- 0  compute 100 image _ batch time =  264.9375102519989\n",
      "train step -- 100  compute 100 image _ batch time =  284.4554169178009\n",
      "train step -- 200  compute 100 image _ batch time =  260.5852494239807\n"
     ]
    },
    {
     "ename": "KeyboardInterrupt",
     "evalue": "",
     "output_type": "error",
     "traceback": [
      "\u001b[1;31m---------------------------------------------------------------------------\u001b[0m",
      "\u001b[1;31mKeyboardInterrupt\u001b[0m                         Traceback (most recent call last)",
      "\u001b[1;32m<ipython-input-28-b599e173afca>\u001b[0m in \u001b[0;36m<module>\u001b[1;34m()\u001b[0m\n\u001b[0;32m     10\u001b[0m         \u001b[0mclass_path\u001b[0m \u001b[1;33m=\u001b[0m \u001b[0mcwd\u001b[0m \u001b[1;33m+\u001b[0m \u001b[0mname\u001b[0m \u001b[1;33m+\u001b[0m \u001b[1;34m\"/\"\u001b[0m\u001b[1;33m\u001b[0m\u001b[0m\n\u001b[0;32m     11\u001b[0m         \u001b[1;32mfor\u001b[0m \u001b[0mimg_count\u001b[0m\u001b[1;33m,\u001b[0m \u001b[0mimg_name\u001b[0m \u001b[1;32min\u001b[0m \u001b[0menumerate\u001b[0m\u001b[1;33m(\u001b[0m\u001b[0mos\u001b[0m\u001b[1;33m.\u001b[0m\u001b[0mlistdir\u001b[0m\u001b[1;33m(\u001b[0m\u001b[0mclass_path\u001b[0m\u001b[1;33m)\u001b[0m\u001b[1;33m)\u001b[0m\u001b[1;33m:\u001b[0m\u001b[1;33m\u001b[0m\u001b[0m\n\u001b[1;32m---> 12\u001b[1;33m             \u001b[0mbox_pic\u001b[0m\u001b[1;33m(\u001b[0m\u001b[0mos\u001b[0m\u001b[1;33m.\u001b[0m\u001b[0mpath\u001b[0m\u001b[1;33m.\u001b[0m\u001b[0mjoin\u001b[0m\u001b[1;33m(\u001b[0m\u001b[0mclass_path\u001b[0m\u001b[1;33m,\u001b[0m \u001b[0mimg_name\u001b[0m\u001b[1;33m)\u001b[0m\u001b[1;33m)\u001b[0m\u001b[1;33m\u001b[0m\u001b[0m\n\u001b[0m\u001b[0;32m     13\u001b[0m             \u001b[1;32mif\u001b[0m \u001b[1;33m(\u001b[0m\u001b[0mimg_count\u001b[0m \u001b[1;33m%\u001b[0m \u001b[1;36m100\u001b[0m \u001b[1;33m==\u001b[0m \u001b[1;36m0\u001b[0m\u001b[1;33m)\u001b[0m\u001b[1;33m:\u001b[0m\u001b[1;33m\u001b[0m\u001b[0m\n\u001b[0;32m     14\u001b[0m                 \u001b[0moutput_str\u001b[0m \u001b[1;33m=\u001b[0m \u001b[0mmode\u001b[0m \u001b[1;33m+\u001b[0m \u001b[1;34m\" step -- \"\u001b[0m \u001b[1;33m+\u001b[0m \u001b[0mstr\u001b[0m\u001b[1;33m(\u001b[0m\u001b[0mimg_count\u001b[0m\u001b[1;33m)\u001b[0m\u001b[1;33m\u001b[0m\u001b[0m\n",
      "\u001b[1;32m<ipython-input-27-d13383cfc553>\u001b[0m in \u001b[0;36mbox_pic\u001b[1;34m(image_path)\u001b[0m\n\u001b[0;32m     19\u001b[0m             (boxes, scores, classes, num_detections) = sess.run(\n\u001b[0;32m     20\u001b[0m               \u001b[1;33m[\u001b[0m\u001b[0mboxes\u001b[0m\u001b[1;33m,\u001b[0m \u001b[0mscores\u001b[0m\u001b[1;33m,\u001b[0m \u001b[0mclasses\u001b[0m\u001b[1;33m,\u001b[0m \u001b[0mnum_detections\u001b[0m\u001b[1;33m]\u001b[0m\u001b[1;33m,\u001b[0m\u001b[1;33m\u001b[0m\u001b[0m\n\u001b[1;32m---> 21\u001b[1;33m               feed_dict={image_tensor: image_np_expanded})\n\u001b[0m\u001b[0;32m     22\u001b[0m             \u001b[1;31m# Visualization of the results of a detection.\u001b[0m\u001b[1;33m\u001b[0m\u001b[1;33m\u001b[0m\u001b[0m\n\u001b[0;32m     23\u001b[0m             vis_util.visualize_boxes_and_labels_on_image_array(\n",
      "\u001b[1;32mC:\\ProgramData\\Anaconda3\\envs\\obj_detect\\lib\\site-packages\\tensorflow\\python\\client\\session.py\u001b[0m in \u001b[0;36mrun\u001b[1;34m(self, fetches, feed_dict, options, run_metadata)\u001b[0m\n\u001b[0;32m    787\u001b[0m     \u001b[1;32mtry\u001b[0m\u001b[1;33m:\u001b[0m\u001b[1;33m\u001b[0m\u001b[0m\n\u001b[0;32m    788\u001b[0m       result = self._run(None, fetches, feed_dict, options_ptr,\n\u001b[1;32m--> 789\u001b[1;33m                          run_metadata_ptr)\n\u001b[0m\u001b[0;32m    790\u001b[0m       \u001b[1;32mif\u001b[0m \u001b[0mrun_metadata\u001b[0m\u001b[1;33m:\u001b[0m\u001b[1;33m\u001b[0m\u001b[0m\n\u001b[0;32m    791\u001b[0m         \u001b[0mproto_data\u001b[0m \u001b[1;33m=\u001b[0m \u001b[0mtf_session\u001b[0m\u001b[1;33m.\u001b[0m\u001b[0mTF_GetBuffer\u001b[0m\u001b[1;33m(\u001b[0m\u001b[0mrun_metadata_ptr\u001b[0m\u001b[1;33m)\u001b[0m\u001b[1;33m\u001b[0m\u001b[0m\n",
      "\u001b[1;32mC:\\ProgramData\\Anaconda3\\envs\\obj_detect\\lib\\site-packages\\tensorflow\\python\\client\\session.py\u001b[0m in \u001b[0;36m_run\u001b[1;34m(self, handle, fetches, feed_dict, options, run_metadata)\u001b[0m\n\u001b[0;32m    995\u001b[0m     \u001b[1;32mif\u001b[0m \u001b[0mfinal_fetches\u001b[0m \u001b[1;32mor\u001b[0m \u001b[0mfinal_targets\u001b[0m\u001b[1;33m:\u001b[0m\u001b[1;33m\u001b[0m\u001b[0m\n\u001b[0;32m    996\u001b[0m       results = self._do_run(handle, final_targets, final_fetches,\n\u001b[1;32m--> 997\u001b[1;33m                              feed_dict_string, options, run_metadata)\n\u001b[0m\u001b[0;32m    998\u001b[0m     \u001b[1;32melse\u001b[0m\u001b[1;33m:\u001b[0m\u001b[1;33m\u001b[0m\u001b[0m\n\u001b[0;32m    999\u001b[0m       \u001b[0mresults\u001b[0m \u001b[1;33m=\u001b[0m \u001b[1;33m[\u001b[0m\u001b[1;33m]\u001b[0m\u001b[1;33m\u001b[0m\u001b[0m\n",
      "\u001b[1;32mC:\\ProgramData\\Anaconda3\\envs\\obj_detect\\lib\\site-packages\\tensorflow\\python\\client\\session.py\u001b[0m in \u001b[0;36m_do_run\u001b[1;34m(self, handle, target_list, fetch_list, feed_dict, options, run_metadata)\u001b[0m\n\u001b[0;32m   1130\u001b[0m     \u001b[1;32mif\u001b[0m \u001b[0mhandle\u001b[0m \u001b[1;32mis\u001b[0m \u001b[1;32mNone\u001b[0m\u001b[1;33m:\u001b[0m\u001b[1;33m\u001b[0m\u001b[0m\n\u001b[0;32m   1131\u001b[0m       return self._do_call(_run_fn, self._session, feed_dict, fetch_list,\n\u001b[1;32m-> 1132\u001b[1;33m                            target_list, options, run_metadata)\n\u001b[0m\u001b[0;32m   1133\u001b[0m     \u001b[1;32melse\u001b[0m\u001b[1;33m:\u001b[0m\u001b[1;33m\u001b[0m\u001b[0m\n\u001b[0;32m   1134\u001b[0m       return self._do_call(_prun_fn, self._session, handle, feed_dict,\n",
      "\u001b[1;32mC:\\ProgramData\\Anaconda3\\envs\\obj_detect\\lib\\site-packages\\tensorflow\\python\\client\\session.py\u001b[0m in \u001b[0;36m_do_call\u001b[1;34m(self, fn, *args)\u001b[0m\n\u001b[0;32m   1137\u001b[0m   \u001b[1;32mdef\u001b[0m \u001b[0m_do_call\u001b[0m\u001b[1;33m(\u001b[0m\u001b[0mself\u001b[0m\u001b[1;33m,\u001b[0m \u001b[0mfn\u001b[0m\u001b[1;33m,\u001b[0m \u001b[1;33m*\u001b[0m\u001b[0margs\u001b[0m\u001b[1;33m)\u001b[0m\u001b[1;33m:\u001b[0m\u001b[1;33m\u001b[0m\u001b[0m\n\u001b[0;32m   1138\u001b[0m     \u001b[1;32mtry\u001b[0m\u001b[1;33m:\u001b[0m\u001b[1;33m\u001b[0m\u001b[0m\n\u001b[1;32m-> 1139\u001b[1;33m       \u001b[1;32mreturn\u001b[0m \u001b[0mfn\u001b[0m\u001b[1;33m(\u001b[0m\u001b[1;33m*\u001b[0m\u001b[0margs\u001b[0m\u001b[1;33m)\u001b[0m\u001b[1;33m\u001b[0m\u001b[0m\n\u001b[0m\u001b[0;32m   1140\u001b[0m     \u001b[1;32mexcept\u001b[0m \u001b[0merrors\u001b[0m\u001b[1;33m.\u001b[0m\u001b[0mOpError\u001b[0m \u001b[1;32mas\u001b[0m \u001b[0me\u001b[0m\u001b[1;33m:\u001b[0m\u001b[1;33m\u001b[0m\u001b[0m\n\u001b[0;32m   1141\u001b[0m       \u001b[0mmessage\u001b[0m \u001b[1;33m=\u001b[0m \u001b[0mcompat\u001b[0m\u001b[1;33m.\u001b[0m\u001b[0mas_text\u001b[0m\u001b[1;33m(\u001b[0m\u001b[0me\u001b[0m\u001b[1;33m.\u001b[0m\u001b[0mmessage\u001b[0m\u001b[1;33m)\u001b[0m\u001b[1;33m\u001b[0m\u001b[0m\n",
      "\u001b[1;32mC:\\ProgramData\\Anaconda3\\envs\\obj_detect\\lib\\site-packages\\tensorflow\\python\\client\\session.py\u001b[0m in \u001b[0;36m_run_fn\u001b[1;34m(session, feed_dict, fetch_list, target_list, options, run_metadata)\u001b[0m\n\u001b[0;32m   1119\u001b[0m         return tf_session.TF_Run(session, options,\n\u001b[0;32m   1120\u001b[0m                                  \u001b[0mfeed_dict\u001b[0m\u001b[1;33m,\u001b[0m \u001b[0mfetch_list\u001b[0m\u001b[1;33m,\u001b[0m \u001b[0mtarget_list\u001b[0m\u001b[1;33m,\u001b[0m\u001b[1;33m\u001b[0m\u001b[0m\n\u001b[1;32m-> 1121\u001b[1;33m                                  status, run_metadata)\n\u001b[0m\u001b[0;32m   1122\u001b[0m \u001b[1;33m\u001b[0m\u001b[0m\n\u001b[0;32m   1123\u001b[0m     \u001b[1;32mdef\u001b[0m \u001b[0m_prun_fn\u001b[0m\u001b[1;33m(\u001b[0m\u001b[0msession\u001b[0m\u001b[1;33m,\u001b[0m \u001b[0mhandle\u001b[0m\u001b[1;33m,\u001b[0m \u001b[0mfeed_dict\u001b[0m\u001b[1;33m,\u001b[0m \u001b[0mfetch_list\u001b[0m\u001b[1;33m)\u001b[0m\u001b[1;33m:\u001b[0m\u001b[1;33m\u001b[0m\u001b[0m\n",
      "\u001b[1;31mKeyboardInterrupt\u001b[0m: "
     ]
    }
   ],
   "source": [
    "start_time = time()\n",
    "each_batch_time = time()\n",
    "# collect the dirs\n",
    "mode_list = [\"train\", \"eval\"]\n",
    "for mode in mode_list:\n",
    "    cwd = \"C:/Users/VIPLAB/Desktop/dog_vs_cat_detection/dataset/self_divide/\" + mode + \"/\"\n",
    "    # classes = [\"cat\", \"dog\"]\n",
    "    classes = [\"dog\", \"cat\"]\n",
    "    for index, name in enumerate(classes):\n",
    "        class_path = cwd + name + \"/\"\n",
    "        for img_count, img_name in enumerate(os.listdir(class_path)):\n",
    "            box_pic(os.path.join(class_path, img_name))\n",
    "            if (img_count % 100 == 0):\n",
    "                output_str = mode + \" step -- \" + str(img_count)\n",
    "                print(output_str, \" compute 100 image _ batch time = \", time() - each_batch_time)\n",
    "                each_batch_time = time()"
   ]
  },
  {
   "cell_type": "code",
   "execution_count": null,
   "metadata": {
    "collapsed": true
   },
   "outputs": [],
   "source": []
  },
  {
   "cell_type": "code",
   "execution_count": null,
   "metadata": {
    "collapsed": true
   },
   "outputs": [],
   "source": []
  },
  {
   "cell_type": "code",
   "execution_count": null,
   "metadata": {
    "collapsed": true
   },
   "outputs": [],
   "source": []
  },
  {
   "cell_type": "code",
   "execution_count": null,
   "metadata": {
    "collapsed": true
   },
   "outputs": [],
   "source": []
  },
  {
   "cell_type": "code",
   "execution_count": null,
   "metadata": {
    "collapsed": true
   },
   "outputs": [],
   "source": []
  },
  {
   "cell_type": "code",
   "execution_count": null,
   "metadata": {
    "collapsed": true
   },
   "outputs": [],
   "source": [
    "with detection_graph.as_default():\n",
    "    with tf.Session(graph=detection_graph) as sess:\n",
    "        for image_path in TEST_IMAGE_PATHS:\n",
    "            image = Image.open(image_path)\n",
    "            # the array based representation of the image will be used later in order to prepare the\n",
    "            # result image with boxes and labels on it.\n",
    "            image_np = load_image_into_numpy_array(image)\n",
    "            # Expand dimensions since the model expects images to have shape: [1, None, None, 3]\n",
    "            image_np_expanded = np.expand_dims(image_np, axis=0)\n",
    "            image_tensor = detection_graph.get_tensor_by_name('image_tensor:0')\n",
    "            # Each box represents a part of the image where a particular object was detected.\n",
    "            boxes = detection_graph.get_tensor_by_name('detection_boxes:0')\n",
    "            # Each score represent how level of confidence for each of the objects.\n",
    "            # Score is shown on the result image, together with the class label.\n",
    "            scores = detection_graph.get_tensor_by_name('detection_scores:0')\n",
    "            classes = detection_graph.get_tensor_by_name('detection_classes:0')\n",
    "            num_detections = detection_graph.get_tensor_by_name('num_detections:0')\n",
    "            # Actual detection.\n",
    "            (boxes, scores, classes, num_detections) = sess.run(\n",
    "              [boxes, scores, classes, num_detections],\n",
    "              feed_dict={image_tensor: image_np_expanded})\n",
    "            # Visualization of the results of a detection.\n",
    "            vis_util.visualize_boxes_and_labels_on_image_array(\n",
    "              image_np,\n",
    "              np.squeeze(boxes),\n",
    "              np.squeeze(classes).astype(np.int32),\n",
    "              np.squeeze(scores),\n",
    "              category_index,\n",
    "              use_normalized_coordinates=True,\n",
    "              line_thickness=8)\n",
    "#             plt.figure(figsize=IMAGE_SIZE)\n",
    "#             plt.imshow(image_np)\n",
    "            #       print(boxes)\n",
    "            if(boxes.shape[0] > 1):\n",
    "                df = pd.DataFrame([image_path], columns = [\"filename\"])\n",
    "                df.to_csv(multi_out_filename, mode='a', header=False, index = False)\n",
    "            \n",
    "            box = tuple(boxes[0].tolist())\n",
    "            ymin, xmin, ymax, xmax = box[0]\n",
    "            flat_classes = np.squeeze(classes).astype(np.int32)\n",
    "            class_name = category_index[flat_classes[0]]['name']\n",
    "            score = np.squeeze(scores)[0] * 100\n",
    "            df = pd.DataFrame([[image_path, image.width, image.height, class_name, xmin, ymin, xmax, ymax, score]],columns = [\"filename\", \"width\", \"height\", \"class\", \"xmin\", \"ymin\", \"xmax\", \"ymax\", \"score\"])\n",
    "            df.to_csv(out_filename, mode='a', header=False, index = False)\n",
    "            out_image_name = os.path.join(out_box_image_dir, image_path.split(\"/\")[-1])\n",
    "            scipy.misc.imsave(out_image_name, image_np)\n",
    "\n",
    "\n",
    "#             print(box)\n",
    "#             print(ymin, xmin, ymax, xmax)"
   ]
  },
  {
   "cell_type": "code",
   "execution_count": null,
   "metadata": {
    "collapsed": true
   },
   "outputs": [],
   "source": [
    "import cv2"
   ]
  },
  {
   "cell_type": "code",
   "execution_count": null,
   "metadata": {
    "collapsed": true
   },
   "outputs": [],
   "source": [
    "img = np.zeros((256,256,3), np.uint8)\n",
    "de_normal = 256"
   ]
  },
  {
   "cell_type": "code",
   "execution_count": null,
   "metadata": {},
   "outputs": [],
   "source": [
    "plt.imshow(cv2.rectangle(img,(int(xmin*de_normal),int(ymin*de_normal)),(int(xmax*de_normal),int(ymax*de_normal)),(0,255,0),3))"
   ]
  },
  {
   "cell_type": "code",
   "execution_count": null,
   "metadata": {
    "collapsed": true
   },
   "outputs": [],
   "source": []
  }
 ],
 "metadata": {
  "kernelspec": {
   "display_name": "Python 3",
   "language": "python",
   "name": "python3"
  },
  "language_info": {
   "codemirror_mode": {
    "name": "ipython",
    "version": 3
   },
   "file_extension": ".py",
   "mimetype": "text/x-python",
   "name": "python",
   "nbconvert_exporter": "python",
   "pygments_lexer": "ipython3",
   "version": "3.5.3"
  }
 },
 "nbformat": 4,
 "nbformat_minor": 2
}
