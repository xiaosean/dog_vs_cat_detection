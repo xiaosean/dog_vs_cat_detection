{
 "cells": [
  {
   "cell_type": "markdown",
   "metadata": {},
   "source": [
    "# Object Detection Demo\n",
    "Welcome to the object detection inference walkthrough!  This notebook will walk you step by step through the process of using a pre-trained model to detect objects in an image. Make sure to follow the [installation instructions](https://github.com/tensorflow/models/blob/master/object_detection/g3doc/installation.md) before you start."
   ]
  },
  {
   "cell_type": "markdown",
   "metadata": {},
   "source": [
    "# Imports"
   ]
  },
  {
   "cell_type": "code",
   "execution_count": 23,
   "metadata": {
    "collapsed": true,
    "scrolled": true
   },
   "outputs": [],
   "source": [
    "import numpy as np\n",
    "import os\n",
    "import six.moves.urllib as urllib\n",
    "import sys\n",
    "import tarfile\n",
    "import tensorflow as tf\n",
    "import zipfile\n",
    "import pandas as pd\n",
    "from collections import defaultdict\n",
    "from io import StringIO\n",
    "from matplotlib import pyplot as plt\n",
    "from PIL import Image\n",
    "import scipy.misc\n",
    "from time import time\n",
    "\n"
   ]
  },
  {
   "cell_type": "markdown",
   "metadata": {},
   "source": [
    "## Env setup"
   ]
  },
  {
   "cell_type": "code",
   "execution_count": 2,
   "metadata": {
    "collapsed": true
   },
   "outputs": [],
   "source": [
    "# This is needed to display the images.\n",
    "%matplotlib inline\n",
    "\n",
    "# This is needed since the notebook is stored in the object_detection folder.\n",
    "sys.path.append(\"..\")"
   ]
  },
  {
   "cell_type": "markdown",
   "metadata": {},
   "source": [
    "## Object detection imports\n",
    "Here are the imports from the object detection module."
   ]
  },
  {
   "cell_type": "code",
   "execution_count": 3,
   "metadata": {
    "collapsed": true
   },
   "outputs": [],
   "source": [
    "from utils import label_map_util\n",
    "\n",
    "from utils import visualization_utils as vis_util"
   ]
  },
  {
   "cell_type": "markdown",
   "metadata": {},
   "source": [
    "# Model preparation "
   ]
  },
  {
   "cell_type": "markdown",
   "metadata": {},
   "source": [
    "## Variables\n",
    "\n",
    "Any model exported using the `export_inference_graph.py` tool can be loaded here simply by changing `PATH_TO_CKPT` to point to a new .pb file.  \n",
    "\n",
    "By default we use an \"SSD with Mobilenet\" model here. See the [detection model zoo](https://github.com/tensorflow/models/blob/master/object_detection/g3doc/detection_model_zoo.md) for a list of other models that can be run out-of-the-box with varying speeds and accuracies."
   ]
  },
  {
   "cell_type": "code",
   "execution_count": 4,
   "metadata": {},
   "outputs": [],
   "source": [
    "# What model to download.\n",
    "MODEL_NAME = 'ssd_mobilenet_v1_coco_11_06_2017'\n",
    "MODEL_FILE = MODEL_NAME + '.tar.gz'\n",
    "DOWNLOAD_BASE = 'http://download.tensorflow.org/models/object_detection/'\n",
    "\n",
    "# Path to frozen detection graph. This is the actual model that is used for the object detection.\n",
    "PATH_TO_CKPT = MODEL_NAME + '/frozen_inference_graph.pb'\n",
    "\n",
    "# List of the strings that is used to add correct label for each box.\n",
    "PATH_TO_LABELS = os.path.join('mscoco_label_map.pbtxt')\n",
    "\n",
    "NUM_CLASSES = 90"
   ]
  },
  {
   "cell_type": "markdown",
   "metadata": {},
   "source": [
    "## Download Model"
   ]
  },
  {
   "cell_type": "code",
   "execution_count": 5,
   "metadata": {},
   "outputs": [],
   "source": [
    "if(not os.path.exists(MODEL_FILE)):\n",
    "    print(\"start download model\")\n",
    "    opener = urllib.request.URLopener()\n",
    "    opener.retrieve(DOWNLOAD_BASE + MODEL_FILE, MODEL_FILE)\n",
    "tar_file = tarfile.open(MODEL_FILE)\n",
    "for file in tar_file.getmembers():\n",
    "  file_name = os.path.basename(file.name)\n",
    "  if 'frozen_inference_graph.pb' in file_name:\n",
    "    tar_file.extract(file, os.getcwd())"
   ]
  },
  {
   "cell_type": "markdown",
   "metadata": {},
   "source": [
    "## Load a (frozen) Tensorflow model into memory."
   ]
  },
  {
   "cell_type": "code",
   "execution_count": 6,
   "metadata": {
    "collapsed": true
   },
   "outputs": [],
   "source": [
    "detection_graph = tf.Graph()\n",
    "with detection_graph.as_default():\n",
    "  od_graph_def = tf.GraphDef()\n",
    "  with tf.gfile.GFile(PATH_TO_CKPT, 'rb') as fid:\n",
    "    serialized_graph = fid.read()\n",
    "    od_graph_def.ParseFromString(serialized_graph)\n",
    "    tf.import_graph_def(od_graph_def, name='')"
   ]
  },
  {
   "cell_type": "markdown",
   "metadata": {},
   "source": [
    "## Loading label map\n",
    "Label maps map indices to category names, so that when our convolution network predicts `5`, we know that this corresponds to `airplane`.  Here we use internal utility functions, but anything that returns a dictionary mapping integers to appropriate string labels would be fine"
   ]
  },
  {
   "cell_type": "code",
   "execution_count": 7,
   "metadata": {
    "collapsed": true
   },
   "outputs": [],
   "source": [
    "label_map = label_map_util.load_labelmap(PATH_TO_LABELS)\n",
    "categories = label_map_util.convert_label_map_to_categories(label_map, max_num_classes=NUM_CLASSES, use_display_name=True)\n",
    "category_index = label_map_util.create_category_index(categories)"
   ]
  },
  {
   "cell_type": "markdown",
   "metadata": {},
   "source": [
    "## Helper code"
   ]
  },
  {
   "cell_type": "code",
   "execution_count": 8,
   "metadata": {},
   "outputs": [],
   "source": [
    "def load_image_into_numpy_array(image):\n",
    "  (im_width, im_height) = image.size\n",
    "  return np.array(image.getdata()).reshape(\n",
    "      (im_height, im_width, 3)).astype(np.uint8)"
   ]
  },
  {
   "cell_type": "code",
   "execution_count": null,
   "metadata": {
    "collapsed": true
   },
   "outputs": [],
   "source": []
  },
  {
   "cell_type": "code",
   "execution_count": 19,
   "metadata": {},
   "outputs": [
    {
     "name": "stdout",
     "output_type": "stream",
     "text": [
      "no file, makefile => auto_box\\multi_box_filename.csv\n",
      "no dir, makedir => auto_box\\box_image\n"
     ]
    }
   ],
   "source": [
    "out_path = os.path.join(\"auto_box\")\n",
    "if not os.path.exists(out_path):\n",
    "    os.makedirs(out_path)\n",
    "out_filename = os.path.join(\"auto_box\", \"auto_box.csv\")\n",
    "if not os.path.exists(out_filename):\n",
    "    df = pd.DataFrame(columns = [\"filename\", \"width\", \"height\", \"class\", \"xmin\", \"ymin\", \"xmax\", \"ymax\", \"score\"])\n",
    "    df.to_csv(out_filename, index= False)\n",
    "    print(\"no file, makefile => %s\" % out_filename)\n",
    "multi_out_filename = os.path.join(\"auto_box\", \"multi_box_filename.csv\")\n",
    "if not os.path.exists(multi_out_filename):\n",
    "    df = pd.DataFrame(columns = [\"filename\"])\n",
    "    df.to_csv(multi_out_filename, index= False)\n",
    "    print(\"no file, makefile => %s\" % multi_out_filename)\n",
    "out_box_image_dir = os.path.join(\"auto_box\", \"box_image\")\n",
    "if not os.path.exists(out_box_image_dir):\n",
    "    os.makedirs(out_box_image_dir)\n",
    "    print(\"no dir, makedir => %s\" % out_box_image_dir)\n",
    "\n",
    "\n",
    "\n",
    "\n",
    "#     df.to_csv(out_filename, mode='a', header=False)"
   ]
  },
  {
   "cell_type": "markdown",
   "metadata": {},
   "source": [
    "# Detection"
   ]
  },
  {
   "cell_type": "code",
   "execution_count": 20,
   "metadata": {
    "collapsed": true
   },
   "outputs": [],
   "source": [
    "# For the sake of simplicity we will use only 2 images:\n",
    "# image1.jpg\n",
    "# image2.jpg\n",
    "# If you want to test the code with your images, just add path to the images to the TEST_IMAGE_PATHS.\n",
    "PATH_TO_TEST_IMAGES_DIR = 'test_images'\n",
    "# TEST_IMAGE_PATHS = [ os.path.join(PATH_TO_TEST_IMAGES_DIR, 'image{}.jpg'.format(i)) for i in range(1, 3) ]\n",
    "# TEST_IMAGE_PATHS = [ os.path.join(PATH_TO_TEST_IMAGES_DIR, target_class + '.6.jpg') ]\n",
    "# TEST_IMAGE_PATHS = [\"C:/Users/VIPLAB/Desktop/dog_vs_cat_detection/dataset/self_divide/eval/cat/cat.1216.jpg\"]\n",
    "# TEST_IMAGE_PATHS = [\"C:/Users/VIPLAB/Desktop/dog_vs_cat_detection/dataset/self_divide/eval/cat/cat.30.jpg\"]\n",
    "# TEST_IMAGE_PATHS = [\"C:/Users/VIPLAB/Desktop/dog_vs_cat_detection/dataset/self_divide/eval/cat/cat.174.jpg\"]\n",
    "# TEST_IMAGE_PATHS = [\"C:/Users/VIPLAB/Desktop/dog_vs_cat_detection/dataset/self_divide/eval/dog/dog.6.jpg\"]\n",
    "# TEST_IMAGE_PATHS = [\"C:/Users/VIPLAB/Desktop/dog_vs_cat_detection/dataset/self_divide/eval/dog/dog.67.jpg\"]\n",
    "# TEST_IMAGE_PATHS = [\"C:/Users/VIPLAB/Desktop/dog_vs_cat_detection/dataset/self_divide/train/dog/dog.12168.jpg\"]\n",
    "# TEST_IMAGE_PATHS = [\"C:/Users/VIPLAB/Desktop/dog_vs_cat_detection/dataset/self_divide/train/dog/dog.11852.jpg\"]\n",
    "\n",
    "# Size, in inches, of the output images.\n",
    "IMAGE_SIZE = (12, 8)"
   ]
  },
  {
   "cell_type": "markdown",
   "metadata": {},
   "source": [
    "# iterator auto box picture"
   ]
  },
  {
   "cell_type": "code",
   "execution_count": 21,
   "metadata": {},
   "outputs": [],
   "source": [
    "def box_pic(image_path):\n",
    "    with detection_graph.as_default():\n",
    "        with tf.Session(graph=detection_graph) as sess:\n",
    "            image = Image.open(image_path)\n",
    "            # the array based representation of the image will be used later in order to prepare the\n",
    "            # result image with boxes and labels on it.\n",
    "            image_np = load_image_into_numpy_array(image)\n",
    "            # Expand dimensions since the model expects images to have shape: [1, None, None, 3]\n",
    "            image_np_expanded = np.expand_dims(image_np, axis=0)\n",
    "            image_tensor = detection_graph.get_tensor_by_name('image_tensor:0')\n",
    "            # Each box represents a part of the image where a particular object was detected.\n",
    "            boxes = detection_graph.get_tensor_by_name('detection_boxes:0')\n",
    "            # Each score represent how level of confidence for each of the objects.\n",
    "            # Score is shown on the result image, together with the class label.\n",
    "            scores = detection_graph.get_tensor_by_name('detection_scores:0')\n",
    "            classes = detection_graph.get_tensor_by_name('detection_classes:0')\n",
    "            num_detections = detection_graph.get_tensor_by_name('num_detections:0')\n",
    "            # Actual detection.\n",
    "            (boxes, scores, classes, num_detections) = sess.run(\n",
    "              [boxes, scores, classes, num_detections],\n",
    "              feed_dict={image_tensor: image_np_expanded})\n",
    "            # Visualization of the results of a detection.\n",
    "            vis_util.visualize_boxes_and_labels_on_image_array(\n",
    "              image_np,\n",
    "              np.squeeze(boxes),\n",
    "              np.squeeze(classes).astype(np.int32),\n",
    "              np.squeeze(scores),\n",
    "              category_index,\n",
    "              use_normalized_coordinates=True,\n",
    "              line_thickness=8)\n",
    "#             plt.figure(figsize=IMAGE_SIZE)\n",
    "#             plt.imshow(image_np)\n",
    "            #       print(boxes)\n",
    "            pet_count = 0\n",
    "            \n",
    "            for i in range(boxes.shape[0]):\n",
    "                flat_classes = np.squeeze(classes).astype(np.int32)\n",
    "                class_name = category_index[flat_classes[i]]['name']\n",
    "                score = np.squeeze(scores)[i] * 100                        \n",
    "                if(class_name == \"dog\" or class_name == \"cat\"):\n",
    "                    pet_count += 1\n",
    "                    if(pet_count > 1):\n",
    "                        df = pd.DataFrame([image_path], columns = [\"filename\"])\n",
    "                        df.to_csv(multi_out_filename, mode='a', header=False, index = False)\n",
    "                        break\n",
    "                    box = tuple(boxes[i].tolist())\n",
    "                    ymin, xmin, ymax, xmax = box[i]\n",
    "\n",
    "                    df = pd.DataFrame([[image_path, image.width, image.height, class_name, xmin, ymin, xmax, ymax, score]],columns = [\"filename\", \"width\", \"height\", \"class\", \"xmin\", \"ymin\", \"xmax\", \"ymax\", \"score\"])\n",
    "                    df.to_csv(out_filename, mode='a', header=False, index = False)\n",
    "                    out_image_name = os.path.join(out_box_image_dir, image_path.split(\"/\")[-1])\n",
    "                    scipy.misc.imsave(out_image_name, image_np)\n",
    "\n",
    "\n",
    "        #             print(box)\n",
    "        #             print(ymin, xmin, ymax, xmax)"
   ]
  },
  {
   "cell_type": "code",
   "execution_count": null,
   "metadata": {},
   "outputs": [
    {
     "name": "stdout",
     "output_type": "stream",
     "text": [
      "train step -- 0  compute 100 image _ batch time =  2.479576349258423\n",
      "train step -- 5  compute 100 image _ batch time =  2.317448377609253\n",
      "train step -- 10  compute 100 image _ batch time =  2.401668071746826\n",
      "train step -- 15  compute 100 image _ batch time =  2.4223473072052\n",
      "train step -- 20  compute 100 image _ batch time =  2.4246644973754883\n",
      "train step -- 25  compute 100 image _ batch time =  2.237095594406128\n",
      "train step -- 30  compute 100 image _ batch time =  2.4689414501190186\n",
      "train step -- 35  compute 100 image _ batch time =  2.4619064331054688\n",
      "train step -- 40  compute 100 image _ batch time =  2.38915753364563\n",
      "train step -- 45  compute 100 image _ batch time =  2.268786668777466\n",
      "train step -- 50  compute 100 image _ batch time =  2.420022487640381\n"
     ]
    }
   ],
   "source": [
    "start_time = time()\n",
    "each_batch_time = time()\n",
    "# collect the dirs\n",
    "mode_list = [\"train\", \"eval\"]\n",
    "for mode in mode_list:\n",
    "    cwd = \"C:/Users/VIPLAB/Desktop/dog_vs_cat_detection/dataset/self_divide/\" + mode + \"/\"\n",
    "    # classes = [\"cat\", \"dog\"]\n",
    "    classes = [\"dog\", \"cat\"]\n",
    "    for index, name in enumerate(classes):\n",
    "        class_path = cwd + name + \"/\"\n",
    "        for img_count, img_name in enumerate(os.listdir(class_path)):\n",
    "            if (img_count % 100 == 0):\n",
    "                box_pic(os.path.join(class_path, img_name))\n",
    "                output_str = mode + \" step -- \" + str(img_count)\n",
    "                print(output_str, \" compute 100 image _ batch time = \", time() - each_batch_time)\n",
    "                each_batch_time = time()"
   ]
  },
  {
   "cell_type": "code",
   "execution_count": null,
   "metadata": {
    "collapsed": true
   },
   "outputs": [],
   "source": []
  },
  {
   "cell_type": "code",
   "execution_count": null,
   "metadata": {
    "collapsed": true
   },
   "outputs": [],
   "source": []
  },
  {
   "cell_type": "code",
   "execution_count": null,
   "metadata": {
    "collapsed": true
   },
   "outputs": [],
   "source": []
  },
  {
   "cell_type": "code",
   "execution_count": null,
   "metadata": {
    "collapsed": true
   },
   "outputs": [],
   "source": []
  },
  {
   "cell_type": "code",
   "execution_count": null,
   "metadata": {
    "collapsed": true
   },
   "outputs": [],
   "source": []
  },
  {
   "cell_type": "code",
   "execution_count": null,
   "metadata": {
    "collapsed": true
   },
   "outputs": [],
   "source": [
    "with detection_graph.as_default():\n",
    "    with tf.Session(graph=detection_graph) as sess:\n",
    "        for image_path in TEST_IMAGE_PATHS:\n",
    "            image = Image.open(image_path)\n",
    "            # the array based representation of the image will be used later in order to prepare the\n",
    "            # result image with boxes and labels on it.\n",
    "            image_np = load_image_into_numpy_array(image)\n",
    "            # Expand dimensions since the model expects images to have shape: [1, None, None, 3]\n",
    "            image_np_expanded = np.expand_dims(image_np, axis=0)\n",
    "            image_tensor = detection_graph.get_tensor_by_name('image_tensor:0')\n",
    "            # Each box represents a part of the image where a particular object was detected.\n",
    "            boxes = detection_graph.get_tensor_by_name('detection_boxes:0')\n",
    "            # Each score represent how level of confidence for each of the objects.\n",
    "            # Score is shown on the result image, together with the class label.\n",
    "            scores = detection_graph.get_tensor_by_name('detection_scores:0')\n",
    "            classes = detection_graph.get_tensor_by_name('detection_classes:0')\n",
    "            num_detections = detection_graph.get_tensor_by_name('num_detections:0')\n",
    "            # Actual detection.\n",
    "            (boxes, scores, classes, num_detections) = sess.run(\n",
    "              [boxes, scores, classes, num_detections],\n",
    "              feed_dict={image_tensor: image_np_expanded})\n",
    "            # Visualization of the results of a detection.\n",
    "            vis_util.visualize_boxes_and_labels_on_image_array(\n",
    "              image_np,\n",
    "              np.squeeze(boxes),\n",
    "              np.squeeze(classes).astype(np.int32),\n",
    "              np.squeeze(scores),\n",
    "              category_index,\n",
    "              use_normalized_coordinates=True,\n",
    "              line_thickness=8)\n",
    "#             plt.figure(figsize=IMAGE_SIZE)\n",
    "#             plt.imshow(image_np)\n",
    "            #       print(boxes)\n",
    "            if(boxes.shape[0] > 1):\n",
    "                df = pd.DataFrame([image_path], columns = [\"filename\"])\n",
    "                df.to_csv(multi_out_filename, mode='a', header=False, index = False)\n",
    "            \n",
    "            box = tuple(boxes[0].tolist())\n",
    "            ymin, xmin, ymax, xmax = box[0]\n",
    "            flat_classes = np.squeeze(classes).astype(np.int32)\n",
    "            class_name = category_index[flat_classes[0]]['name']\n",
    "            score = np.squeeze(scores)[0] * 100\n",
    "            df = pd.DataFrame([[image_path, image.width, image.height, class_name, xmin, ymin, xmax, ymax, score]],columns = [\"filename\", \"width\", \"height\", \"class\", \"xmin\", \"ymin\", \"xmax\", \"ymax\", \"score\"])\n",
    "            df.to_csv(out_filename, mode='a', header=False, index = False)\n",
    "            out_image_name = os.path.join(out_box_image_dir, image_path.split(\"/\")[-1])\n",
    "            scipy.misc.imsave(out_image_name, image_np)\n",
    "\n",
    "\n",
    "#             print(box)\n",
    "#             print(ymin, xmin, ymax, xmax)"
   ]
  },
  {
   "cell_type": "code",
   "execution_count": null,
   "metadata": {
    "collapsed": true
   },
   "outputs": [],
   "source": [
    "import cv2"
   ]
  },
  {
   "cell_type": "code",
   "execution_count": null,
   "metadata": {
    "collapsed": true
   },
   "outputs": [],
   "source": [
    "img = np.zeros((256,256,3), np.uint8)\n",
    "de_normal = 256"
   ]
  },
  {
   "cell_type": "code",
   "execution_count": null,
   "metadata": {},
   "outputs": [],
   "source": [
    "plt.imshow(cv2.rectangle(img,(int(xmin*de_normal),int(ymin*de_normal)),(int(xmax*de_normal),int(ymax*de_normal)),(0,255,0),3))"
   ]
  },
  {
   "cell_type": "code",
   "execution_count": null,
   "metadata": {
    "collapsed": true
   },
   "outputs": [],
   "source": []
  }
 ],
 "metadata": {
  "kernelspec": {
   "display_name": "Python 3",
   "language": "python",
   "name": "python3"
  },
  "language_info": {
   "codemirror_mode": {
    "name": "ipython",
    "version": 3
   },
   "file_extension": ".py",
   "mimetype": "text/x-python",
   "name": "python",
   "nbconvert_exporter": "python",
   "pygments_lexer": "ipython3",
   "version": "3.5.3"
  }
 },
 "nbformat": 4,
 "nbformat_minor": 2
}
