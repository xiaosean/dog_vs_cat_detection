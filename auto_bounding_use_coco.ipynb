{
 "cells": [
  {
   "cell_type": "markdown",
   "metadata": {},
   "source": [
    "# Object Detection Demo\n",
    "Welcome to the object detection inference walkthrough!  This notebook will walk you step by step through the process of using a pre-trained model to detect objects in an image. Make sure to follow the [installation instructions](https://github.com/tensorflow/models/blob/master/object_detection/g3doc/installation.md) before you start."
   ]
  },
  {
   "cell_type": "markdown",
   "metadata": {},
   "source": [
    "# Imports"
   ]
  },
  {
   "cell_type": "code",
   "execution_count": 32,
   "metadata": {
    "collapsed": true,
    "scrolled": true
   },
   "outputs": [],
   "source": [
    "import numpy as np\n",
    "import os\n",
    "import six.moves.urllib as urllib\n",
    "import sys\n",
    "import tarfile\n",
    "import tensorflow as tf\n",
    "import zipfile\n",
    "import pandas as pd\n",
    "from collections import defaultdict\n",
    "from io import StringIO\n",
    "from matplotlib import pyplot as plt\n",
    "from PIL import Image\n",
    "import scipy.misc\n",
    "from time import time\n",
    "\n"
   ]
  },
  {
   "cell_type": "markdown",
   "metadata": {},
   "source": [
    "## Env setup"
   ]
  },
  {
   "cell_type": "code",
   "execution_count": 33,
   "metadata": {
    "collapsed": true
   },
   "outputs": [],
   "source": [
    "# This is needed to display the images.\n",
    "%matplotlib inline\n",
    "\n",
    "# This is needed since the notebook is stored in the object_detection folder.\n",
    "sys.path.append(\"..\")"
   ]
  },
  {
   "cell_type": "markdown",
   "metadata": {},
   "source": [
    "## Object detection imports\n",
    "Here are the imports from the object detection module."
   ]
  },
  {
   "cell_type": "code",
   "execution_count": 34,
   "metadata": {
    "collapsed": true
   },
   "outputs": [],
   "source": [
    "from utils import label_map_util\n",
    "\n",
    "from utils import visualization_utils as vis_util"
   ]
  },
  {
   "cell_type": "markdown",
   "metadata": {},
   "source": [
    "# Model preparation "
   ]
  },
  {
   "cell_type": "markdown",
   "metadata": {},
   "source": [
    "## Variables\n",
    "\n",
    "Any model exported using the `export_inference_graph.py` tool can be loaded here simply by changing `PATH_TO_CKPT` to point to a new .pb file.  \n",
    "\n",
    "By default we use an \"SSD with Mobilenet\" model here. See the [detection model zoo](https://github.com/tensorflow/models/blob/master/object_detection/g3doc/detection_model_zoo.md) for a list of other models that can be run out-of-the-box with varying speeds and accuracies."
   ]
  },
  {
   "cell_type": "code",
   "execution_count": 35,
   "metadata": {
    "collapsed": true
   },
   "outputs": [],
   "source": [
    "# What model to download.\n",
    "MODEL_NAME = 'ssd_mobilenet_v1_coco_11_06_2017'\n",
    "MODEL_FILE = MODEL_NAME + '.tar.gz'\n",
    "DOWNLOAD_BASE = 'http://download.tensorflow.org/models/object_detection/'\n",
    "\n",
    "# Path to frozen detection graph. This is the actual model that is used for the object detection.\n",
    "PATH_TO_CKPT = MODEL_NAME + '/frozen_inference_graph.pb'\n",
    "\n",
    "# List of the strings that is used to add correct label for each box.\n",
    "PATH_TO_LABELS = os.path.join('mscoco_label_map.pbtxt')\n",
    "\n",
    "NUM_CLASSES = 90"
   ]
  },
  {
   "cell_type": "markdown",
   "metadata": {},
   "source": [
    "## Download Model"
   ]
  },
  {
   "cell_type": "code",
   "execution_count": 36,
   "metadata": {
    "collapsed": true
   },
   "outputs": [],
   "source": [
    "if(not os.path.exists(MODEL_FILE)):\n",
    "    print(\"start download model\")\n",
    "    opener = urllib.request.URLopener()\n",
    "    opener.retrieve(DOWNLOAD_BASE + MODEL_FILE, MODEL_FILE)\n",
    "tar_file = tarfile.open(MODEL_FILE)\n",
    "for file in tar_file.getmembers():\n",
    "  file_name = os.path.basename(file.name)\n",
    "  if 'frozen_inference_graph.pb' in file_name:\n",
    "    tar_file.extract(file, os.getcwd())"
   ]
  },
  {
   "cell_type": "markdown",
   "metadata": {},
   "source": [
    "## Load a (frozen) Tensorflow model into memory."
   ]
  },
  {
   "cell_type": "code",
   "execution_count": 37,
   "metadata": {
    "collapsed": true
   },
   "outputs": [],
   "source": [
    "detection_graph = tf.Graph()\n",
    "with detection_graph.as_default():\n",
    "  od_graph_def = tf.GraphDef()\n",
    "  with tf.gfile.GFile(PATH_TO_CKPT, 'rb') as fid:\n",
    "    serialized_graph = fid.read()\n",
    "    od_graph_def.ParseFromString(serialized_graph)\n",
    "    tf.import_graph_def(od_graph_def, name='')"
   ]
  },
  {
   "cell_type": "markdown",
   "metadata": {},
   "source": [
    "## Loading label map\n",
    "Label maps map indices to category names, so that when our convolution network predicts `5`, we know that this corresponds to `airplane`.  Here we use internal utility functions, but anything that returns a dictionary mapping integers to appropriate string labels would be fine"
   ]
  },
  {
   "cell_type": "code",
   "execution_count": 38,
   "metadata": {
    "collapsed": true
   },
   "outputs": [],
   "source": [
    "label_map = label_map_util.load_labelmap(PATH_TO_LABELS)\n",
    "categories = label_map_util.convert_label_map_to_categories(label_map, max_num_classes=NUM_CLASSES, use_display_name=True)\n",
    "category_index = label_map_util.create_category_index(categories)"
   ]
  },
  {
   "cell_type": "markdown",
   "metadata": {},
   "source": [
    "## Helper code"
   ]
  },
  {
   "cell_type": "code",
   "execution_count": 39,
   "metadata": {
    "collapsed": true
   },
   "outputs": [],
   "source": [
    "def load_image_into_numpy_array(image):\n",
    "  (im_width, im_height) = image.size\n",
    "  return np.array(image.getdata()).reshape(\n",
    "      (im_height, im_width, 3)).astype(np.uint8)"
   ]
  },
  {
   "cell_type": "code",
   "execution_count": null,
   "metadata": {
    "collapsed": true
   },
   "outputs": [],
   "source": []
  },
  {
   "cell_type": "code",
   "execution_count": 46,
   "metadata": {},
   "outputs": [
    {
     "name": "stdout",
     "output_type": "stream",
     "text": [
      "no file, makefile => auto_box\\auto_box.csv\n"
     ]
    }
   ],
   "source": [
    "out_path = os.path.join(\"auto_box\")\n",
    "if not os.path.exists(out_path):\n",
    "    os.makedirs(out_path)\n",
    "out_filename = os.path.join(\"auto_box\", \"auto_box.csv\")\n",
    "if not os.path.exists(out_filename):\n",
    "    df = pd.DataFrame(columns = [\"filename\", \"width\", \"height\", \"class\", \"xmin\", \"ymin\", \"xmax\", \"ymax\", \"score\"])\n",
    "    df.to_csv(out_filename, index= False)\n",
    "    print(\"no file, makefile => %s\" % out_filename)\n",
    "multi_out_filename = os.path.join(\"auto_box\", \"multi_box_filename.csv\")\n",
    "if not os.path.exists(multi_out_filename):\n",
    "    df = pd.DataFrame(columns = [\"filename\"])\n",
    "    df.to_csv(multi_out_filename, index= False)\n",
    "    print(\"no file, makefile => %s\" % multi_out_filename)\n",
    "out_box_image_dir = os.path.join(\"auto_box\", \"box_image\")\n",
    "if not os.path.exists(out_box_image_dir):\n",
    "    os.makedirs(out_box_image_dir)\n",
    "    print(\"no dir, makedir => %s\" % out_box_image_dir)\n",
    "\n",
    "\n",
    "\n",
    "\n",
    "#     df.to_csv(out_filename, mode='a', header=False)"
   ]
  },
  {
   "cell_type": "markdown",
   "metadata": {},
   "source": [
    "# Detection"
   ]
  },
  {
   "cell_type": "code",
   "execution_count": 41,
   "metadata": {
    "collapsed": true
   },
   "outputs": [],
   "source": [
    "# For the sake of simplicity we will use only 2 images:\n",
    "# image1.jpg\n",
    "# image2.jpg\n",
    "# If you want to test the code with your images, just add path to the images to the TEST_IMAGE_PATHS.\n",
    "PATH_TO_TEST_IMAGES_DIR = 'test_images'\n",
    "# TEST_IMAGE_PATHS = [ os.path.join(PATH_TO_TEST_IMAGES_DIR, 'image{}.jpg'.format(i)) for i in range(1, 3) ]\n",
    "# TEST_IMAGE_PATHS = [ os.path.join(PATH_TO_TEST_IMAGES_DIR, target_class + '.6.jpg') ]\n",
    "# TEST_IMAGE_PATHS = [\"C:/Users/VIPLAB/Desktop/dog_vs_cat_detection/dataset/self_divide/eval/cat/cat.1216.jpg\"]\n",
    "# TEST_IMAGE_PATHS = [\"C:/Users/VIPLAB/Desktop/dog_vs_cat_detection/dataset/self_divide/eval/cat/cat.30.jpg\"]\n",
    "# TEST_IMAGE_PATHS = [\"C:/Users/VIPLAB/Desktop/dog_vs_cat_detection/dataset/self_divide/eval/cat/cat.174.jpg\"]\n",
    "# TEST_IMAGE_PATHS = [\"C:/Users/VIPLAB/Desktop/dog_vs_cat_detection/dataset/self_divide/eval/dog/dog.6.jpg\"]\n",
    "# TEST_IMAGE_PATHS = [\"C:/Users/VIPLAB/Desktop/dog_vs_cat_detection/dataset/self_divide/eval/dog/dog.67.jpg\"]\n",
    "# TEST_IMAGE_PATHS = [\"C:/Users/VIPLAB/Desktop/dog_vs_cat_detection/dataset/self_divide/train/dog/dog.12168.jpg\"]\n",
    "# TEST_IMAGE_PATHS = [\"C:/Users/VIPLAB/Desktop/dog_vs_cat_detection/dataset/self_divide/train/dog/dog.11852.jpg\"]\n",
    "\n",
    "# Size, in inches, of the output images.\n",
    "IMAGE_SIZE = (12, 8)"
   ]
  },
  {
   "cell_type": "markdown",
   "metadata": {},
   "source": [
    "# iterator auto box picture"
   ]
  },
  {
   "cell_type": "code",
   "execution_count": 49,
   "metadata": {},
   "outputs": [
    {
     "name": "stdout",
     "output_type": "stream",
     "text": [
      "train step -- 0  compute 100 image _ batch time =  0.01905083656311035\n",
      "train step -- 100  compute 100 image _ batch time =  55.88991332054138\n",
      "train step -- 200  compute 100 image _ batch time =  51.78047513961792\n",
      "train step -- 300  compute 100 image _ batch time =  52.71752738952637\n",
      "train step -- 400  compute 100 image _ batch time =  52.792128801345825\n",
      "train step -- 500  compute 100 image _ batch time =  51.112850189208984\n",
      "train step -- 600  compute 100 image _ batch time =  51.86382699012756\n",
      "train step -- 700  compute 100 image _ batch time =  51.090667486190796\n",
      "train step -- 800  compute 100 image _ batch time =  51.58588099479675\n",
      "train step -- 900  compute 100 image _ batch time =  52.16192030906677\n",
      "train step -- 1000  compute 100 image _ batch time =  51.74716925621033\n",
      "train step -- 1100  compute 100 image _ batch time =  52.033764600753784\n",
      "train step -- 1200  compute 100 image _ batch time =  50.92648506164551\n",
      "train step -- 1300  compute 100 image _ batch time =  52.01196503639221\n",
      "train step -- 1400  compute 100 image _ batch time =  52.269946575164795\n",
      "train step -- 1500  compute 100 image _ batch time =  51.80685758590698\n",
      "train step -- 1600  compute 100 image _ batch time =  51.62234401702881\n",
      "train step -- 1700  compute 100 image _ batch time =  53.77069330215454\n",
      "train step -- 1800  compute 100 image _ batch time =  53.6648268699646\n",
      "train step -- 1900  compute 100 image _ batch time =  53.61949682235718\n",
      "train step -- 2000  compute 100 image _ batch time =  54.5596559047699\n",
      "train step -- 2100  compute 100 image _ batch time =  54.09124422073364\n",
      "train step -- 2200  compute 100 image _ batch time =  53.55603098869324\n",
      "train step -- 2300  compute 100 image _ batch time =  53.02682375907898\n",
      "train step -- 2400  compute 100 image _ batch time =  53.56547236442566\n",
      "train step -- 2500  compute 100 image _ batch time =  52.36973428726196\n",
      "train step -- 2600  compute 100 image _ batch time =  52.44168210029602\n",
      "train step -- 2700  compute 100 image _ batch time =  52.22959661483765\n",
      "train step -- 2800  compute 100 image _ batch time =  52.89800047874451\n",
      "train step -- 2900  compute 100 image _ batch time =  52.92925548553467\n",
      "train step -- 3000  compute 100 image _ batch time =  53.21099328994751\n",
      "train step -- 3100  compute 100 image _ batch time =  52.5754656791687\n",
      "train step -- 3200  compute 100 image _ batch time =  54.55312371253967\n",
      "train step -- 3300  compute 100 image _ batch time =  54.40216040611267\n",
      "train step -- 3400  compute 100 image _ batch time =  54.326109647750854\n",
      "train step -- 3500  compute 100 image _ batch time =  54.78038430213928\n",
      "train step -- 3600  compute 100 image _ batch time =  54.14007878303528\n",
      "train step -- 3700  compute 100 image _ batch time =  54.76814794540405\n",
      "train step -- 3800  compute 100 image _ batch time =  54.1767201423645\n",
      "train step -- 3900  compute 100 image _ batch time =  52.06098532676697\n",
      "train step -- 4000  compute 100 image _ batch time =  52.52763533592224\n",
      "train step -- 4100  compute 100 image _ batch time =  51.803210973739624\n",
      "train step -- 4200  compute 100 image _ batch time =  52.75715780258179\n",
      "train step -- 4300  compute 100 image _ batch time =  52.1761577129364\n",
      "train step -- 4400  compute 100 image _ batch time =  52.773844957351685\n",
      "train step -- 4500  compute 100 image _ batch time =  52.14258790016174\n",
      "train step -- 4600  compute 100 image _ batch time =  52.56675338745117\n",
      "train step -- 4700  compute 100 image _ batch time =  52.52220010757446\n",
      "train step -- 4800  compute 100 image _ batch time =  51.771525621414185\n",
      "train step -- 4900  compute 100 image _ batch time =  53.05655527114868\n",
      "train step -- 5000  compute 100 image _ batch time =  53.47103190422058\n",
      "train step -- 5100  compute 100 image _ batch time =  53.722291707992554\n",
      "train step -- 5200  compute 100 image _ batch time =  52.64795112609863\n",
      "train step -- 5300  compute 100 image _ batch time =  53.86143898963928\n",
      "train step -- 5400  compute 100 image _ batch time =  52.08924984931946\n",
      "train step -- 5500  compute 100 image _ batch time =  52.85424089431763\n",
      "train step -- 5600  compute 100 image _ batch time =  52.32961988449097\n",
      "train step -- 5700  compute 100 image _ batch time =  52.00858998298645\n",
      "train step -- 5800  compute 100 image _ batch time =  51.76438593864441\n",
      "train step -- 5900  compute 100 image _ batch time =  52.798091411590576\n",
      "train step -- 6000  compute 100 image _ batch time =  53.88506269454956\n",
      "train step -- 6100  compute 100 image _ batch time =  52.645343542099\n",
      "train step -- 6200  compute 100 image _ batch time =  53.341973066329956\n",
      "train step -- 6300  compute 100 image _ batch time =  52.25687551498413\n",
      "train step -- 6400  compute 100 image _ batch time =  51.66143202781677\n",
      "train step -- 6500  compute 100 image _ batch time =  52.014912366867065\n",
      "train step -- 6600  compute 100 image _ batch time =  53.232006311416626\n",
      "train step -- 6700  compute 100 image _ batch time =  53.310022830963135\n",
      "train step -- 6800  compute 100 image _ batch time =  53.09501838684082\n",
      "train step -- 6900  compute 100 image _ batch time =  54.03604245185852\n",
      "train step -- 7000  compute 100 image _ batch time =  51.9223849773407\n",
      "train step -- 7100  compute 100 image _ batch time =  51.917330741882324\n",
      "train step -- 7200  compute 100 image _ batch time =  54.202850341796875\n",
      "train step -- 7300  compute 100 image _ batch time =  52.97365999221802\n",
      "train step -- 7400  compute 100 image _ batch time =  55.06830143928528\n",
      "train step -- 7500  compute 100 image _ batch time =  54.06284284591675\n",
      "train step -- 7600  compute 100 image _ batch time =  54.566100120544434\n",
      "train step -- 7700  compute 100 image _ batch time =  55.664477586746216\n",
      "train step -- 7800  compute 100 image _ batch time =  54.055240631103516\n",
      "train step -- 7900  compute 100 image _ batch time =  53.99510669708252\n",
      "train step -- 8000  compute 100 image _ batch time =  55.143224477767944\n",
      "train step -- 8100  compute 100 image _ batch time =  55.46921944618225\n",
      "train step -- 8200  compute 100 image _ batch time =  54.84044051170349\n",
      "train step -- 8300  compute 100 image _ batch time =  54.12208914756775\n",
      "train step -- 8400  compute 100 image _ batch time =  54.07104682922363\n",
      "train step -- 8500  compute 100 image _ batch time =  52.61065411567688\n",
      "train step -- 8600  compute 100 image _ batch time =  52.10607385635376\n",
      "train step -- 8700  compute 100 image _ batch time =  52.63470411300659\n",
      "train step -- 8800  compute 100 image _ batch time =  52.20481491088867\n",
      "train step -- 8900  compute 100 image _ batch time =  53.701289892196655\n",
      "train step -- 9000  compute 100 image _ batch time =  53.730865716934204\n",
      "train step -- 9100  compute 100 image _ batch time =  53.41852331161499\n",
      "train step -- 9200  compute 100 image _ batch time =  52.588533878326416\n",
      "train step -- 9300  compute 100 image _ batch time =  52.69075322151184\n",
      "train step -- 9400  compute 100 image _ batch time =  52.50244426727295\n",
      "train step -- 9500  compute 100 image _ batch time =  53.00086045265198\n",
      "train step -- 9600  compute 100 image _ batch time =  53.504043102264404\n",
      "train step -- 9700  compute 100 image _ batch time =  52.94599533081055\n",
      "train step -- 9800  compute 100 image _ batch time =  53.05507516860962\n",
      "train step -- 9900  compute 100 image _ batch time =  51.90865159034729\n",
      "train step -- 0  compute 100 image _ batch time =  53.225584268569946\n",
      "train step -- 100  compute 100 image _ batch time =  52.01790690422058\n",
      "train step -- 200  compute 100 image _ batch time =  52.528786182403564\n",
      "train step -- 300  compute 100 image _ batch time =  52.460384130477905\n",
      "train step -- 400  compute 100 image _ batch time =  53.760870695114136\n",
      "train step -- 500  compute 100 image _ batch time =  54.16332244873047\n",
      "train step -- 600  compute 100 image _ batch time =  53.465904712677\n",
      "train step -- 700  compute 100 image _ batch time =  54.56148815155029\n",
      "train step -- 800  compute 100 image _ batch time =  53.037630796432495\n",
      "train step -- 900  compute 100 image _ batch time =  52.60984539985657\n",
      "train step -- 1000  compute 100 image _ batch time =  52.301023960113525\n",
      "train step -- 1100  compute 100 image _ batch time =  51.896950483322144\n",
      "train step -- 1200  compute 100 image _ batch time =  53.02595114707947\n",
      "train step -- 1300  compute 100 image _ batch time =  53.104159355163574\n"
     ]
    },
    {
     "name": "stdout",
     "output_type": "stream",
     "text": [
      "train step -- 1400  compute 100 image _ batch time =  51.15798568725586\n",
      "train step -- 1500  compute 100 image _ batch time =  52.670005083084106\n",
      "train step -- 1600  compute 100 image _ batch time =  52.19975519180298\n",
      "train step -- 1700  compute 100 image _ batch time =  53.1813645362854\n",
      "train step -- 1800  compute 100 image _ batch time =  53.50321960449219\n",
      "train step -- 1900  compute 100 image _ batch time =  52.40429878234863\n",
      "train step -- 2000  compute 100 image _ batch time =  53.25355625152588\n",
      "train step -- 2100  compute 100 image _ batch time =  52.78631401062012\n",
      "train step -- 2200  compute 100 image _ batch time =  53.39794039726257\n",
      "train step -- 2300  compute 100 image _ batch time =  53.336777210235596\n",
      "train step -- 2400  compute 100 image _ batch time =  52.22682762145996\n",
      "train step -- 2500  compute 100 image _ batch time =  53.416990756988525\n",
      "train step -- 2600  compute 100 image _ batch time =  53.2174608707428\n",
      "train step -- 2700  compute 100 image _ batch time =  52.79934811592102\n",
      "train step -- 2800  compute 100 image _ batch time =  52.4925332069397\n",
      "train step -- 2900  compute 100 image _ batch time =  53.32274007797241\n",
      "train step -- 3000  compute 100 image _ batch time =  53.22759008407593\n",
      "train step -- 3100  compute 100 image _ batch time =  52.51890325546265\n",
      "train step -- 3200  compute 100 image _ batch time =  53.23562169075012\n",
      "train step -- 3300  compute 100 image _ batch time =  53.667208433151245\n",
      "train step -- 3400  compute 100 image _ batch time =  53.194302558898926\n",
      "train step -- 3500  compute 100 image _ batch time =  52.9216742515564\n",
      "train step -- 3600  compute 100 image _ batch time =  52.42034149169922\n",
      "train step -- 3700  compute 100 image _ batch time =  53.02795624732971\n",
      "train step -- 3800  compute 100 image _ batch time =  53.27360963821411\n",
      "train step -- 3900  compute 100 image _ batch time =  53.2806282043457\n",
      "train step -- 4000  compute 100 image _ batch time =  53.12735843658447\n",
      "train step -- 4100  compute 100 image _ batch time =  52.387656927108765\n",
      "train step -- 4200  compute 100 image _ batch time =  53.31830358505249\n",
      "train step -- 4300  compute 100 image _ batch time =  53.281444787979126\n",
      "train step -- 4400  compute 100 image _ batch time =  53.05295920372009\n",
      "train step -- 4500  compute 100 image _ batch time =  52.31628108024597\n",
      "train step -- 4600  compute 100 image _ batch time =  52.71101999282837\n",
      "train step -- 4700  compute 100 image _ batch time =  52.554749727249146\n",
      "train step -- 4800  compute 100 image _ batch time =  52.58525633811951\n",
      "train step -- 4900  compute 100 image _ batch time =  52.86292362213135\n",
      "train step -- 5000  compute 100 image _ batch time =  52.55042791366577\n",
      "train step -- 5100  compute 100 image _ batch time =  52.09689664840698\n",
      "train step -- 5200  compute 100 image _ batch time =  53.608742237091064\n",
      "train step -- 5300  compute 100 image _ batch time =  52.78140711784363\n",
      "train step -- 5400  compute 100 image _ batch time =  52.85957312583923\n",
      "train step -- 5500  compute 100 image _ batch time =  51.902759313583374\n",
      "train step -- 5600  compute 100 image _ batch time =  53.72342014312744\n",
      "train step -- 5700  compute 100 image _ batch time =  53.137269258499146\n",
      "train step -- 5800  compute 100 image _ batch time =  53.24338245391846\n",
      "train step -- 5900  compute 100 image _ batch time =  53.110909938812256\n",
      "train step -- 6000  compute 100 image _ batch time =  53.11333465576172\n",
      "train step -- 6100  compute 100 image _ batch time =  53.563223361968994\n",
      "train step -- 6200  compute 100 image _ batch time =  53.21230983734131\n",
      "train step -- 6300  compute 100 image _ batch time =  52.22151184082031\n",
      "train step -- 6400  compute 100 image _ batch time =  52.99957084655762\n",
      "train step -- 6500  compute 100 image _ batch time =  53.81273865699768\n",
      "train step -- 6600  compute 100 image _ batch time =  53.06570529937744\n",
      "train step -- 6700  compute 100 image _ batch time =  52.49005746841431\n",
      "train step -- 6800  compute 100 image _ batch time =  53.07175064086914\n",
      "train step -- 6900  compute 100 image _ batch time =  52.77580809593201\n",
      "train step -- 7000  compute 100 image _ batch time =  52.64332699775696\n",
      "train step -- 7100  compute 100 image _ batch time =  52.774271726608276\n",
      "train step -- 7200  compute 100 image _ batch time =  52.853384017944336\n",
      "train step -- 7300  compute 100 image _ batch time =  52.22950196266174\n",
      "train step -- 7400  compute 100 image _ batch time =  53.350754261016846\n",
      "train step -- 7500  compute 100 image _ batch time =  53.1216356754303\n",
      "train step -- 7600  compute 100 image _ batch time =  51.91929507255554\n",
      "train step -- 7700  compute 100 image _ batch time =  52.06818699836731\n",
      "train step -- 7800  compute 100 image _ batch time =  52.91406011581421\n",
      "train step -- 7900  compute 100 image _ batch time =  52.390358209609985\n",
      "train step -- 8000  compute 100 image _ batch time =  52.76288080215454\n",
      "train step -- 8100  compute 100 image _ batch time =  53.33721876144409\n",
      "train step -- 8200  compute 100 image _ batch time =  54.77040696144104\n",
      "train step -- 8300  compute 100 image _ batch time =  53.11241888999939\n",
      "train step -- 8400  compute 100 image _ batch time =  52.88721799850464\n",
      "train step -- 8500  compute 100 image _ batch time =  51.90460777282715\n",
      "train step -- 8600  compute 100 image _ batch time =  53.57749271392822\n",
      "train step -- 8700  compute 100 image _ batch time =  52.66731357574463\n",
      "train step -- 8800  compute 100 image _ batch time =  52.704535722732544\n",
      "train step -- 8900  compute 100 image _ batch time =  52.81216549873352\n",
      "train step -- 9000  compute 100 image _ batch time =  52.68890905380249\n",
      "train step -- 9100  compute 100 image _ batch time =  51.81855750083923\n",
      "train step -- 9200  compute 100 image _ batch time =  52.35412526130676\n",
      "train step -- 9300  compute 100 image _ batch time =  53.00152111053467\n",
      "train step -- 9400  compute 100 image _ batch time =  52.491007566452026\n",
      "train step -- 9500  compute 100 image _ batch time =  52.46553635597229\n",
      "train step -- 9600  compute 100 image _ batch time =  52.55923295021057\n",
      "train step -- 9700  compute 100 image _ batch time =  52.44455814361572\n",
      "train step -- 9800  compute 100 image _ batch time =  53.143173933029175\n",
      "train step -- 9900  compute 100 image _ batch time =  53.98269701004028\n",
      "eval step -- 0  compute 100 image _ batch time =  53.288713455200195\n",
      "eval step -- 100  compute 100 image _ batch time =  53.14276361465454\n",
      "eval step -- 200  compute 100 image _ batch time =  53.45026135444641\n",
      "eval step -- 300  compute 100 image _ batch time =  55.42885065078735\n",
      "eval step -- 400  compute 100 image _ batch time =  54.044743061065674\n",
      "eval step -- 500  compute 100 image _ batch time =  52.85964894294739\n",
      "eval step -- 600  compute 100 image _ batch time =  53.11284518241882\n",
      "eval step -- 700  compute 100 image _ batch time =  53.02499341964722\n",
      "eval step -- 800  compute 100 image _ batch time =  53.66011381149292\n",
      "eval step -- 900  compute 100 image _ batch time =  52.731168031692505\n",
      "eval step -- 1000  compute 100 image _ batch time =  53.10996961593628\n",
      "eval step -- 1100  compute 100 image _ batch time =  53.01024341583252\n",
      "eval step -- 1200  compute 100 image _ batch time =  53.09951734542847\n",
      "eval step -- 1300  compute 100 image _ batch time =  53.8058123588562\n",
      "eval step -- 1400  compute 100 image _ batch time =  53.26881504058838\n",
      "eval step -- 1500  compute 100 image _ batch time =  53.39725065231323\n",
      "eval step -- 1600  compute 100 image _ batch time =  52.51502776145935\n",
      "eval step -- 1700  compute 100 image _ batch time =  53.25122284889221\n",
      "eval step -- 1800  compute 100 image _ batch time =  52.97543525695801\n",
      "eval step -- 1900  compute 100 image _ batch time =  53.019673109054565\n",
      "eval step -- 2000  compute 100 image _ batch time =  52.6982638835907\n",
      "eval step -- 2100  compute 100 image _ batch time =  53.30986189842224\n",
      "eval step -- 2200  compute 100 image _ batch time =  53.35425877571106\n",
      "eval step -- 2300  compute 100 image _ batch time =  53.50788927078247\n",
      "eval step -- 2400  compute 100 image _ batch time =  52.213484048843384\n",
      "eval step -- 0  compute 100 image _ batch time =  53.42033553123474\n",
      "eval step -- 100  compute 100 image _ batch time =  53.516037702560425\n",
      "eval step -- 200  compute 100 image _ batch time =  53.11061978340149\n",
      "eval step -- 300  compute 100 image _ batch time =  53.21347260475159\n"
     ]
    },
    {
     "name": "stdout",
     "output_type": "stream",
     "text": [
      "eval step -- 400  compute 100 image _ batch time =  52.715670585632324\n",
      "eval step -- 500  compute 100 image _ batch time =  53.211326122283936\n",
      "eval step -- 600  compute 100 image _ batch time =  53.99156594276428\n",
      "eval step -- 700  compute 100 image _ batch time =  52.36043572425842\n",
      "eval step -- 800  compute 100 image _ batch time =  53.115938901901245\n",
      "eval step -- 900  compute 100 image _ batch time =  53.94183826446533\n",
      "eval step -- 1000  compute 100 image _ batch time =  52.87324666976929\n",
      "eval step -- 1100  compute 100 image _ batch time =  52.54030799865723\n",
      "eval step -- 1200  compute 100 image _ batch time =  53.087090730667114\n",
      "eval step -- 1300  compute 100 image _ batch time =  53.523624658584595\n",
      "eval step -- 1400  compute 100 image _ batch time =  53.07315516471863\n",
      "eval step -- 1500  compute 100 image _ batch time =  53.28983235359192\n",
      "eval step -- 1600  compute 100 image _ batch time =  52.47788381576538\n",
      "eval step -- 1700  compute 100 image _ batch time =  53.74917936325073\n",
      "eval step -- 1800  compute 100 image _ batch time =  53.24230194091797\n",
      "eval step -- 1900  compute 100 image _ batch time =  52.911351442337036\n",
      "eval step -- 2000  compute 100 image _ batch time =  53.71875071525574\n",
      "eval step -- 2100  compute 100 image _ batch time =  54.05073571205139\n",
      "eval step -- 2200  compute 100 image _ batch time =  51.969008445739746\n",
      "eval step -- 2300  compute 100 image _ batch time =  53.43657994270325\n",
      "eval step -- 2400  compute 100 image _ batch time =  53.07278275489807\n"
     ]
    }
   ],
   "source": [
    "with detection_graph.as_default():\n",
    "    with tf.Session(graph=detection_graph) as sess:\n",
    "        start_time = time()\n",
    "        each_batch_time = time()\n",
    "        # collect the dirs\n",
    "        mode_list = [\"train\", \"eval\"]\n",
    "        for mode in mode_list:\n",
    "            cwd = \"./dataset/self_divide/\" + mode + \"/\"\n",
    "            # classes = [\"cat\", \"dog\"]\n",
    "            classes = [\"dog\", \"cat\"]\n",
    "            for index, name in enumerate(classes):\n",
    "                class_path = cwd + name + \"/\"\n",
    "                for img_count, img_name in enumerate(os.listdir(class_path)):\n",
    "                    if (img_count % 100 == 0):\n",
    "                        output_str = mode + \" step -- \" + str(img_count)\n",
    "                        print(output_str, \" compute 100 image_batch time = \", time() - each_batch_time)\n",
    "                        each_batch_time = time()\n",
    "                    image = Image.open(os.path.join(class_path, img_name))\n",
    "                    # the array based representation of the image will be used later in order to prepare the\n",
    "                    # result image with boxes and labels on it.\n",
    "                    image_np = load_image_into_numpy_array(image)\n",
    "                    # Expand dimensions since the model expects images to have shape: [1, None, None, 3]\n",
    "                    image_np_expanded = np.expand_dims(image_np, axis=0)\n",
    "                    image_tensor = detection_graph.get_tensor_by_name('image_tensor:0')\n",
    "                    # Each box represents a part of the image where a particular object was detected.\n",
    "                    boxes = detection_graph.get_tensor_by_name('detection_boxes:0')\n",
    "                    # Each score represent how level of confidence for each of the objects.\n",
    "                    # Score is shown on the result image, together with the class label.\n",
    "                    scores = detection_graph.get_tensor_by_name('detection_scores:0')\n",
    "                    classes = detection_graph.get_tensor_by_name('detection_classes:0')\n",
    "                    num_detections = detection_graph.get_tensor_by_name('num_detections:0')\n",
    "                    # Actual detection.\n",
    "                    (boxes, scores, classes, num_detections) = sess.run(\n",
    "                      [boxes, scores, classes, num_detections],\n",
    "                      feed_dict={image_tensor: image_np_expanded})\n",
    "                    # Visualization of the results of a detection.\n",
    "                    vis_util.visualize_boxes_and_labels_on_image_array(\n",
    "                      image_np,\n",
    "                      np.squeeze(boxes),\n",
    "                      np.squeeze(classes).astype(np.int32),\n",
    "                      np.squeeze(scores),\n",
    "                      category_index,\n",
    "                      use_normalized_coordinates=True,\n",
    "                      line_thickness=8)\n",
    "        #             plt.figure(figsize=IMAGE_SIZE)\n",
    "        #             plt.imshow(image_np)\n",
    "                    #       print(boxes)\n",
    "                    pet_count = 0\n",
    "\n",
    "                    for i in range(boxes.shape[0]):\n",
    "                        flat_classes = np.squeeze(classes).astype(np.int32)\n",
    "#                             class_name = category_index[flat_classes[i]]['name']\n",
    "                        class_name = name\n",
    "                        score = np.squeeze(scores)[i] * 100                        \n",
    "                        if(class_name == \"dog\" or class_name == \"cat\"):\n",
    "                            pet_count += 1\n",
    "                            if(pet_count > 1):\n",
    "                                df = pd.DataFrame([[img_name]], columns = [\"filename\"])\n",
    "                                df.to_csv(multi_out_filename, mode='a', header=False, index = False)\n",
    "                                break\n",
    "                            box = tuple(boxes[i].tolist())\n",
    "                            ymin, xmin, ymax, xmax = box[i]\n",
    "\n",
    "                            df = pd.DataFrame([[img_name, image.width, image.height, class_name, xmin, ymin, xmax, ymax, score]],columns = [\"filename\", \"width\", \"height\", \"class\", \"xmin\", \"ymin\", \"xmax\", \"ymax\", \"score\"])\n",
    "                            df.to_csv(out_filename, mode='a', header=False, index = False)\n",
    "#                             out_image_name = os.path.join(out_box_image_dir, image_path.split(\"/\")[-1])\n",
    "                            out_image_name = os.path.join(out_box_image_dir, img_name)\n",
    "\n",
    "                            scipy.misc.imsave(out_image_name, image_np)\n",
    "\n",
    "\n",
    "                #             print(box)\n",
    "                #             print(ymin, xmin, ymax, xmax)"
   ]
  },
  {
   "cell_type": "code",
   "execution_count": null,
   "metadata": {
    "collapsed": true
   },
   "outputs": [],
   "source": []
  }
 ],
 "metadata": {
  "kernelspec": {
   "display_name": "Python 3",
   "language": "python",
   "name": "python3"
  },
  "language_info": {
   "codemirror_mode": {
    "name": "ipython",
    "version": 3
   },
   "file_extension": ".py",
   "mimetype": "text/x-python",
   "name": "python",
   "nbconvert_exporter": "python",
   "pygments_lexer": "ipython3",
   "version": "3.5.3"
  }
 },
 "nbformat": 4,
 "nbformat_minor": 2
}
